{
 "cells": [
  {
   "cell_type": "code",
   "execution_count": 1,
   "id": "e38376c5",
   "metadata": {},
   "outputs": [
    {
     "data": {
      "text/html": [
       "<div>\n",
       "<style scoped>\n",
       "    .dataframe tbody tr th:only-of-type {\n",
       "        vertical-align: middle;\n",
       "    }\n",
       "\n",
       "    .dataframe tbody tr th {\n",
       "        vertical-align: top;\n",
       "    }\n",
       "\n",
       "    .dataframe thead th {\n",
       "        text-align: right;\n",
       "    }\n",
       "</style>\n",
       "<table border=\"1\" class=\"dataframe\">\n",
       "  <thead>\n",
       "    <tr style=\"text-align: right;\">\n",
       "      <th></th>\n",
       "      <th>0</th>\n",
       "      <th>1</th>\n",
       "      <th>2</th>\n",
       "      <th>3</th>\n",
       "      <th>4</th>\n",
       "      <th>5</th>\n",
       "      <th>6</th>\n",
       "      <th>7</th>\n",
       "      <th>8</th>\n",
       "      <th>9</th>\n",
       "      <th>...</th>\n",
       "      <th>55</th>\n",
       "      <th>56</th>\n",
       "      <th>57</th>\n",
       "      <th>58</th>\n",
       "      <th>59</th>\n",
       "      <th>60</th>\n",
       "      <th>61</th>\n",
       "      <th>62</th>\n",
       "      <th>63</th>\n",
       "      <th>class_name</th>\n",
       "    </tr>\n",
       "  </thead>\n",
       "  <tbody>\n",
       "    <tr>\n",
       "      <th>0</th>\n",
       "      <td>27.630783</td>\n",
       "      <td>0.000000</td>\n",
       "      <td>51.067493</td>\n",
       "      <td>0.0</td>\n",
       "      <td>26.302004</td>\n",
       "      <td>0.000000</td>\n",
       "      <td>0.000000</td>\n",
       "      <td>0.0</td>\n",
       "      <td>0.0</td>\n",
       "      <td>0.000000</td>\n",
       "      <td>...</td>\n",
       "      <td>35.563477</td>\n",
       "      <td>8.822042</td>\n",
       "      <td>0.0</td>\n",
       "      <td>18.269510</td>\n",
       "      <td>82.596970</td>\n",
       "      <td>0.000000</td>\n",
       "      <td>0.000000</td>\n",
       "      <td>1.751286</td>\n",
       "      <td>0.0</td>\n",
       "      <td>3333</td>\n",
       "    </tr>\n",
       "    <tr>\n",
       "      <th>1</th>\n",
       "      <td>41.934185</td>\n",
       "      <td>0.000000</td>\n",
       "      <td>57.616398</td>\n",
       "      <td>0.0</td>\n",
       "      <td>40.345722</td>\n",
       "      <td>0.000000</td>\n",
       "      <td>0.000000</td>\n",
       "      <td>0.0</td>\n",
       "      <td>0.0</td>\n",
       "      <td>0.000000</td>\n",
       "      <td>...</td>\n",
       "      <td>33.432617</td>\n",
       "      <td>22.573324</td>\n",
       "      <td>0.0</td>\n",
       "      <td>25.266916</td>\n",
       "      <td>71.188900</td>\n",
       "      <td>0.000000</td>\n",
       "      <td>0.000000</td>\n",
       "      <td>0.000000</td>\n",
       "      <td>0.0</td>\n",
       "      <td>3333</td>\n",
       "    </tr>\n",
       "    <tr>\n",
       "      <th>2</th>\n",
       "      <td>59.681458</td>\n",
       "      <td>0.000000</td>\n",
       "      <td>35.450397</td>\n",
       "      <td>0.0</td>\n",
       "      <td>51.084698</td>\n",
       "      <td>0.000000</td>\n",
       "      <td>0.000000</td>\n",
       "      <td>0.0</td>\n",
       "      <td>0.0</td>\n",
       "      <td>4.531399</td>\n",
       "      <td>...</td>\n",
       "      <td>17.747238</td>\n",
       "      <td>22.295591</td>\n",
       "      <td>0.0</td>\n",
       "      <td>9.600313</td>\n",
       "      <td>39.380276</td>\n",
       "      <td>0.000000</td>\n",
       "      <td>0.000000</td>\n",
       "      <td>13.358544</td>\n",
       "      <td>0.0</td>\n",
       "      <td>3333</td>\n",
       "    </tr>\n",
       "    <tr>\n",
       "      <th>3</th>\n",
       "      <td>25.652845</td>\n",
       "      <td>0.000000</td>\n",
       "      <td>42.711246</td>\n",
       "      <td>0.0</td>\n",
       "      <td>26.391441</td>\n",
       "      <td>0.000000</td>\n",
       "      <td>0.000000</td>\n",
       "      <td>0.0</td>\n",
       "      <td>0.0</td>\n",
       "      <td>0.000000</td>\n",
       "      <td>...</td>\n",
       "      <td>25.998358</td>\n",
       "      <td>12.029038</td>\n",
       "      <td>0.0</td>\n",
       "      <td>19.127953</td>\n",
       "      <td>60.226376</td>\n",
       "      <td>0.000000</td>\n",
       "      <td>0.000000</td>\n",
       "      <td>0.000000</td>\n",
       "      <td>0.0</td>\n",
       "      <td>3333</td>\n",
       "    </tr>\n",
       "    <tr>\n",
       "      <th>4</th>\n",
       "      <td>51.862490</td>\n",
       "      <td>0.000000</td>\n",
       "      <td>25.455917</td>\n",
       "      <td>0.0</td>\n",
       "      <td>48.505250</td>\n",
       "      <td>0.000000</td>\n",
       "      <td>0.000000</td>\n",
       "      <td>0.0</td>\n",
       "      <td>0.0</td>\n",
       "      <td>0.000000</td>\n",
       "      <td>...</td>\n",
       "      <td>27.024067</td>\n",
       "      <td>1.758605</td>\n",
       "      <td>0.0</td>\n",
       "      <td>17.696215</td>\n",
       "      <td>64.634834</td>\n",
       "      <td>0.000000</td>\n",
       "      <td>0.000000</td>\n",
       "      <td>9.861172</td>\n",
       "      <td>0.0</td>\n",
       "      <td>3333</td>\n",
       "    </tr>\n",
       "    <tr>\n",
       "      <th>...</th>\n",
       "      <td>...</td>\n",
       "      <td>...</td>\n",
       "      <td>...</td>\n",
       "      <td>...</td>\n",
       "      <td>...</td>\n",
       "      <td>...</td>\n",
       "      <td>...</td>\n",
       "      <td>...</td>\n",
       "      <td>...</td>\n",
       "      <td>...</td>\n",
       "      <td>...</td>\n",
       "      <td>...</td>\n",
       "      <td>...</td>\n",
       "      <td>...</td>\n",
       "      <td>...</td>\n",
       "      <td>...</td>\n",
       "      <td>...</td>\n",
       "      <td>...</td>\n",
       "      <td>...</td>\n",
       "      <td>...</td>\n",
       "      <td>...</td>\n",
       "    </tr>\n",
       "    <tr>\n",
       "      <th>6652</th>\n",
       "      <td>0.000000</td>\n",
       "      <td>8.917019</td>\n",
       "      <td>12.606703</td>\n",
       "      <td>0.0</td>\n",
       "      <td>0.000000</td>\n",
       "      <td>23.875010</td>\n",
       "      <td>0.000000</td>\n",
       "      <td>0.0</td>\n",
       "      <td>0.0</td>\n",
       "      <td>9.403310</td>\n",
       "      <td>...</td>\n",
       "      <td>0.000000</td>\n",
       "      <td>9.477231</td>\n",
       "      <td>0.0</td>\n",
       "      <td>0.000000</td>\n",
       "      <td>46.723995</td>\n",
       "      <td>0.000000</td>\n",
       "      <td>20.901190</td>\n",
       "      <td>7.003646</td>\n",
       "      <td>0.0</td>\n",
       "      <td>3454</td>\n",
       "    </tr>\n",
       "    <tr>\n",
       "      <th>6653</th>\n",
       "      <td>12.088920</td>\n",
       "      <td>3.646342</td>\n",
       "      <td>28.106102</td>\n",
       "      <td>0.0</td>\n",
       "      <td>0.000000</td>\n",
       "      <td>0.000000</td>\n",
       "      <td>0.000000</td>\n",
       "      <td>0.0</td>\n",
       "      <td>0.0</td>\n",
       "      <td>0.000000</td>\n",
       "      <td>...</td>\n",
       "      <td>0.000000</td>\n",
       "      <td>0.000000</td>\n",
       "      <td>0.0</td>\n",
       "      <td>0.000000</td>\n",
       "      <td>38.677414</td>\n",
       "      <td>0.000000</td>\n",
       "      <td>1.824834</td>\n",
       "      <td>7.562943</td>\n",
       "      <td>0.0</td>\n",
       "      <td>3454</td>\n",
       "    </tr>\n",
       "    <tr>\n",
       "      <th>6654</th>\n",
       "      <td>0.000000</td>\n",
       "      <td>0.000000</td>\n",
       "      <td>53.899130</td>\n",
       "      <td>0.0</td>\n",
       "      <td>0.000000</td>\n",
       "      <td>0.000000</td>\n",
       "      <td>12.079654</td>\n",
       "      <td>0.0</td>\n",
       "      <td>0.0</td>\n",
       "      <td>0.000000</td>\n",
       "      <td>...</td>\n",
       "      <td>12.388772</td>\n",
       "      <td>58.245360</td>\n",
       "      <td>0.0</td>\n",
       "      <td>0.000000</td>\n",
       "      <td>47.787598</td>\n",
       "      <td>5.880453</td>\n",
       "      <td>0.000000</td>\n",
       "      <td>3.556168</td>\n",
       "      <td>0.0</td>\n",
       "      <td>3454</td>\n",
       "    </tr>\n",
       "    <tr>\n",
       "      <th>6655</th>\n",
       "      <td>0.000000</td>\n",
       "      <td>0.000000</td>\n",
       "      <td>37.811558</td>\n",
       "      <td>0.0</td>\n",
       "      <td>0.000000</td>\n",
       "      <td>0.000000</td>\n",
       "      <td>8.555406</td>\n",
       "      <td>0.0</td>\n",
       "      <td>0.0</td>\n",
       "      <td>0.000000</td>\n",
       "      <td>...</td>\n",
       "      <td>7.663426</td>\n",
       "      <td>23.674717</td>\n",
       "      <td>0.0</td>\n",
       "      <td>0.000000</td>\n",
       "      <td>53.260387</td>\n",
       "      <td>3.350826</td>\n",
       "      <td>0.000000</td>\n",
       "      <td>8.673196</td>\n",
       "      <td>0.0</td>\n",
       "      <td>3454</td>\n",
       "    </tr>\n",
       "    <tr>\n",
       "      <th>6656</th>\n",
       "      <td>0.000000</td>\n",
       "      <td>0.000000</td>\n",
       "      <td>29.105694</td>\n",
       "      <td>0.0</td>\n",
       "      <td>0.000000</td>\n",
       "      <td>8.669491</td>\n",
       "      <td>20.568624</td>\n",
       "      <td>0.0</td>\n",
       "      <td>0.0</td>\n",
       "      <td>0.000000</td>\n",
       "      <td>...</td>\n",
       "      <td>11.354428</td>\n",
       "      <td>39.144600</td>\n",
       "      <td>0.0</td>\n",
       "      <td>0.000000</td>\n",
       "      <td>62.376480</td>\n",
       "      <td>13.449656</td>\n",
       "      <td>0.000000</td>\n",
       "      <td>10.945368</td>\n",
       "      <td>0.0</td>\n",
       "      <td>3454</td>\n",
       "    </tr>\n",
       "  </tbody>\n",
       "</table>\n",
       "<p>6657 rows × 65 columns</p>\n",
       "</div>"
      ],
      "text/plain": [
       "              0         1          2    3          4          5          6  \\\n",
       "0     27.630783  0.000000  51.067493  0.0  26.302004   0.000000   0.000000   \n",
       "1     41.934185  0.000000  57.616398  0.0  40.345722   0.000000   0.000000   \n",
       "2     59.681458  0.000000  35.450397  0.0  51.084698   0.000000   0.000000   \n",
       "3     25.652845  0.000000  42.711246  0.0  26.391441   0.000000   0.000000   \n",
       "4     51.862490  0.000000  25.455917  0.0  48.505250   0.000000   0.000000   \n",
       "...         ...       ...        ...  ...        ...        ...        ...   \n",
       "6652   0.000000  8.917019  12.606703  0.0   0.000000  23.875010   0.000000   \n",
       "6653  12.088920  3.646342  28.106102  0.0   0.000000   0.000000   0.000000   \n",
       "6654   0.000000  0.000000  53.899130  0.0   0.000000   0.000000  12.079654   \n",
       "6655   0.000000  0.000000  37.811558  0.0   0.000000   0.000000   8.555406   \n",
       "6656   0.000000  0.000000  29.105694  0.0   0.000000   8.669491  20.568624   \n",
       "\n",
       "        7    8         9  ...         55         56   57         58  \\\n",
       "0     0.0  0.0  0.000000  ...  35.563477   8.822042  0.0  18.269510   \n",
       "1     0.0  0.0  0.000000  ...  33.432617  22.573324  0.0  25.266916   \n",
       "2     0.0  0.0  4.531399  ...  17.747238  22.295591  0.0   9.600313   \n",
       "3     0.0  0.0  0.000000  ...  25.998358  12.029038  0.0  19.127953   \n",
       "4     0.0  0.0  0.000000  ...  27.024067   1.758605  0.0  17.696215   \n",
       "...   ...  ...       ...  ...        ...        ...  ...        ...   \n",
       "6652  0.0  0.0  9.403310  ...   0.000000   9.477231  0.0   0.000000   \n",
       "6653  0.0  0.0  0.000000  ...   0.000000   0.000000  0.0   0.000000   \n",
       "6654  0.0  0.0  0.000000  ...  12.388772  58.245360  0.0   0.000000   \n",
       "6655  0.0  0.0  0.000000  ...   7.663426  23.674717  0.0   0.000000   \n",
       "6656  0.0  0.0  0.000000  ...  11.354428  39.144600  0.0   0.000000   \n",
       "\n",
       "             59         60         61         62   63  class_name  \n",
       "0     82.596970   0.000000   0.000000   1.751286  0.0        3333  \n",
       "1     71.188900   0.000000   0.000000   0.000000  0.0        3333  \n",
       "2     39.380276   0.000000   0.000000  13.358544  0.0        3333  \n",
       "3     60.226376   0.000000   0.000000   0.000000  0.0        3333  \n",
       "4     64.634834   0.000000   0.000000   9.861172  0.0        3333  \n",
       "...         ...        ...        ...        ...  ...         ...  \n",
       "6652  46.723995   0.000000  20.901190   7.003646  0.0        3454  \n",
       "6653  38.677414   0.000000   1.824834   7.562943  0.0        3454  \n",
       "6654  47.787598   5.880453   0.000000   3.556168  0.0        3454  \n",
       "6655  53.260387   3.350826   0.000000   8.673196  0.0        3454  \n",
       "6656  62.376480  13.449656   0.000000  10.945368  0.0        3454  \n",
       "\n",
       "[6657 rows x 65 columns]"
      ]
     },
     "execution_count": 1,
     "metadata": {},
     "output_type": "execute_result"
    }
   ],
   "source": [
    "import pandas as pd\n",
    "import numpy as np\n",
    "df=pd.read_csv(\"D:\\extracted_features_charrec_dense7.csv\")\n",
    "df\n"
   ]
  },
  {
   "cell_type": "code",
   "execution_count": 2,
   "id": "a24321df",
   "metadata": {
    "scrolled": true
   },
   "outputs": [
    {
     "data": {
      "text/html": [
       "<div>\n",
       "<style scoped>\n",
       "    .dataframe tbody tr th:only-of-type {\n",
       "        vertical-align: middle;\n",
       "    }\n",
       "\n",
       "    .dataframe tbody tr th {\n",
       "        vertical-align: top;\n",
       "    }\n",
       "\n",
       "    .dataframe thead th {\n",
       "        text-align: right;\n",
       "    }\n",
       "</style>\n",
       "<table border=\"1\" class=\"dataframe\">\n",
       "  <thead>\n",
       "    <tr style=\"text-align: right;\">\n",
       "      <th></th>\n",
       "      <th>0</th>\n",
       "      <th>1</th>\n",
       "      <th>2</th>\n",
       "      <th>3</th>\n",
       "      <th>4</th>\n",
       "      <th>5</th>\n",
       "      <th>6</th>\n",
       "      <th>7</th>\n",
       "      <th>8</th>\n",
       "      <th>9</th>\n",
       "      <th>...</th>\n",
       "      <th>55</th>\n",
       "      <th>56</th>\n",
       "      <th>57</th>\n",
       "      <th>58</th>\n",
       "      <th>59</th>\n",
       "      <th>60</th>\n",
       "      <th>61</th>\n",
       "      <th>62</th>\n",
       "      <th>63</th>\n",
       "      <th>class_name</th>\n",
       "    </tr>\n",
       "  </thead>\n",
       "  <tbody>\n",
       "    <tr>\n",
       "      <th>count</th>\n",
       "      <td>6657.000000</td>\n",
       "      <td>6657.000000</td>\n",
       "      <td>6657.000000</td>\n",
       "      <td>6657.000000</td>\n",
       "      <td>6657.000000</td>\n",
       "      <td>6657.000000</td>\n",
       "      <td>6657.000000</td>\n",
       "      <td>6657.000000</td>\n",
       "      <td>6657.0</td>\n",
       "      <td>6657.000000</td>\n",
       "      <td>...</td>\n",
       "      <td>6657.000000</td>\n",
       "      <td>6657.000000</td>\n",
       "      <td>6657.000000</td>\n",
       "      <td>6657.000000</td>\n",
       "      <td>6657.000000</td>\n",
       "      <td>6657.000000</td>\n",
       "      <td>6657.000000</td>\n",
       "      <td>6657.000000</td>\n",
       "      <td>6657.0</td>\n",
       "      <td>6657.000000</td>\n",
       "    </tr>\n",
       "    <tr>\n",
       "      <th>mean</th>\n",
       "      <td>21.167244</td>\n",
       "      <td>7.914853</td>\n",
       "      <td>26.955550</td>\n",
       "      <td>0.001694</td>\n",
       "      <td>22.496025</td>\n",
       "      <td>3.155892</td>\n",
       "      <td>0.566073</td>\n",
       "      <td>0.000942</td>\n",
       "      <td>0.0</td>\n",
       "      <td>25.541555</td>\n",
       "      <td>...</td>\n",
       "      <td>4.556751</td>\n",
       "      <td>18.894252</td>\n",
       "      <td>0.001973</td>\n",
       "      <td>10.986298</td>\n",
       "      <td>25.483393</td>\n",
       "      <td>0.853183</td>\n",
       "      <td>21.327060</td>\n",
       "      <td>17.278656</td>\n",
       "      <td>0.0</td>\n",
       "      <td>3365.858194</td>\n",
       "    </tr>\n",
       "    <tr>\n",
       "      <th>std</th>\n",
       "      <td>21.048915</td>\n",
       "      <td>11.119147</td>\n",
       "      <td>34.284395</td>\n",
       "      <td>0.044561</td>\n",
       "      <td>24.870716</td>\n",
       "      <td>9.028120</td>\n",
       "      <td>3.395978</td>\n",
       "      <td>0.040107</td>\n",
       "      <td>0.0</td>\n",
       "      <td>35.277036</td>\n",
       "      <td>...</td>\n",
       "      <td>11.053910</td>\n",
       "      <td>26.166480</td>\n",
       "      <td>0.075321</td>\n",
       "      <td>13.966302</td>\n",
       "      <td>28.379510</td>\n",
       "      <td>3.459574</td>\n",
       "      <td>29.444840</td>\n",
       "      <td>20.342259</td>\n",
       "      <td>0.0</td>\n",
       "      <td>24.817513</td>\n",
       "    </tr>\n",
       "    <tr>\n",
       "      <th>min</th>\n",
       "      <td>0.000000</td>\n",
       "      <td>0.000000</td>\n",
       "      <td>0.000000</td>\n",
       "      <td>0.000000</td>\n",
       "      <td>0.000000</td>\n",
       "      <td>0.000000</td>\n",
       "      <td>0.000000</td>\n",
       "      <td>0.000000</td>\n",
       "      <td>0.0</td>\n",
       "      <td>0.000000</td>\n",
       "      <td>...</td>\n",
       "      <td>0.000000</td>\n",
       "      <td>0.000000</td>\n",
       "      <td>0.000000</td>\n",
       "      <td>0.000000</td>\n",
       "      <td>0.000000</td>\n",
       "      <td>0.000000</td>\n",
       "      <td>0.000000</td>\n",
       "      <td>0.000000</td>\n",
       "      <td>0.0</td>\n",
       "      <td>3333.000000</td>\n",
       "    </tr>\n",
       "    <tr>\n",
       "      <th>25%</th>\n",
       "      <td>0.000000</td>\n",
       "      <td>0.000000</td>\n",
       "      <td>0.000000</td>\n",
       "      <td>0.000000</td>\n",
       "      <td>0.000000</td>\n",
       "      <td>0.000000</td>\n",
       "      <td>0.000000</td>\n",
       "      <td>0.000000</td>\n",
       "      <td>0.0</td>\n",
       "      <td>0.000000</td>\n",
       "      <td>...</td>\n",
       "      <td>0.000000</td>\n",
       "      <td>0.000000</td>\n",
       "      <td>0.000000</td>\n",
       "      <td>0.000000</td>\n",
       "      <td>0.000000</td>\n",
       "      <td>0.000000</td>\n",
       "      <td>0.000000</td>\n",
       "      <td>0.000000</td>\n",
       "      <td>0.0</td>\n",
       "      <td>3353.000000</td>\n",
       "    </tr>\n",
       "    <tr>\n",
       "      <th>50%</th>\n",
       "      <td>16.735703</td>\n",
       "      <td>2.248540</td>\n",
       "      <td>16.052292</td>\n",
       "      <td>0.000000</td>\n",
       "      <td>15.782615</td>\n",
       "      <td>0.000000</td>\n",
       "      <td>0.000000</td>\n",
       "      <td>0.000000</td>\n",
       "      <td>0.0</td>\n",
       "      <td>10.701322</td>\n",
       "      <td>...</td>\n",
       "      <td>0.000000</td>\n",
       "      <td>8.076521</td>\n",
       "      <td>0.000000</td>\n",
       "      <td>5.125904</td>\n",
       "      <td>17.266066</td>\n",
       "      <td>0.000000</td>\n",
       "      <td>9.578491</td>\n",
       "      <td>9.162153</td>\n",
       "      <td>0.0</td>\n",
       "      <td>3362.000000</td>\n",
       "    </tr>\n",
       "    <tr>\n",
       "      <th>75%</th>\n",
       "      <td>34.614826</td>\n",
       "      <td>11.951107</td>\n",
       "      <td>40.553830</td>\n",
       "      <td>0.000000</td>\n",
       "      <td>37.320180</td>\n",
       "      <td>0.000000</td>\n",
       "      <td>0.000000</td>\n",
       "      <td>0.000000</td>\n",
       "      <td>0.0</td>\n",
       "      <td>38.489910</td>\n",
       "      <td>...</td>\n",
       "      <td>0.821449</td>\n",
       "      <td>27.168510</td>\n",
       "      <td>0.000000</td>\n",
       "      <td>18.787160</td>\n",
       "      <td>43.938200</td>\n",
       "      <td>0.000000</td>\n",
       "      <td>30.630342</td>\n",
       "      <td>28.160164</td>\n",
       "      <td>0.0</td>\n",
       "      <td>3374.000000</td>\n",
       "    </tr>\n",
       "    <tr>\n",
       "      <th>max</th>\n",
       "      <td>113.655290</td>\n",
       "      <td>58.710968</td>\n",
       "      <td>194.724120</td>\n",
       "      <td>1.568933</td>\n",
       "      <td>149.866410</td>\n",
       "      <td>73.601400</td>\n",
       "      <td>34.719303</td>\n",
       "      <td>2.378994</td>\n",
       "      <td>0.0</td>\n",
       "      <td>192.633940</td>\n",
       "      <td>...</td>\n",
       "      <td>74.291320</td>\n",
       "      <td>168.736980</td>\n",
       "      <td>4.984689</td>\n",
       "      <td>79.050310</td>\n",
       "      <td>171.163060</td>\n",
       "      <td>34.583378</td>\n",
       "      <td>147.329130</td>\n",
       "      <td>92.224130</td>\n",
       "      <td>0.0</td>\n",
       "      <td>3454.000000</td>\n",
       "    </tr>\n",
       "  </tbody>\n",
       "</table>\n",
       "<p>8 rows × 65 columns</p>\n",
       "</div>"
      ],
      "text/plain": [
       "                 0            1            2            3            4  \\\n",
       "count  6657.000000  6657.000000  6657.000000  6657.000000  6657.000000   \n",
       "mean     21.167244     7.914853    26.955550     0.001694    22.496025   \n",
       "std      21.048915    11.119147    34.284395     0.044561    24.870716   \n",
       "min       0.000000     0.000000     0.000000     0.000000     0.000000   \n",
       "25%       0.000000     0.000000     0.000000     0.000000     0.000000   \n",
       "50%      16.735703     2.248540    16.052292     0.000000    15.782615   \n",
       "75%      34.614826    11.951107    40.553830     0.000000    37.320180   \n",
       "max     113.655290    58.710968   194.724120     1.568933   149.866410   \n",
       "\n",
       "                 5            6            7       8            9  ...  \\\n",
       "count  6657.000000  6657.000000  6657.000000  6657.0  6657.000000  ...   \n",
       "mean      3.155892     0.566073     0.000942     0.0    25.541555  ...   \n",
       "std       9.028120     3.395978     0.040107     0.0    35.277036  ...   \n",
       "min       0.000000     0.000000     0.000000     0.0     0.000000  ...   \n",
       "25%       0.000000     0.000000     0.000000     0.0     0.000000  ...   \n",
       "50%       0.000000     0.000000     0.000000     0.0    10.701322  ...   \n",
       "75%       0.000000     0.000000     0.000000     0.0    38.489910  ...   \n",
       "max      73.601400    34.719303     2.378994     0.0   192.633940  ...   \n",
       "\n",
       "                55           56           57           58           59  \\\n",
       "count  6657.000000  6657.000000  6657.000000  6657.000000  6657.000000   \n",
       "mean      4.556751    18.894252     0.001973    10.986298    25.483393   \n",
       "std      11.053910    26.166480     0.075321    13.966302    28.379510   \n",
       "min       0.000000     0.000000     0.000000     0.000000     0.000000   \n",
       "25%       0.000000     0.000000     0.000000     0.000000     0.000000   \n",
       "50%       0.000000     8.076521     0.000000     5.125904    17.266066   \n",
       "75%       0.821449    27.168510     0.000000    18.787160    43.938200   \n",
       "max      74.291320   168.736980     4.984689    79.050310   171.163060   \n",
       "\n",
       "                60           61           62      63   class_name  \n",
       "count  6657.000000  6657.000000  6657.000000  6657.0  6657.000000  \n",
       "mean      0.853183    21.327060    17.278656     0.0  3365.858194  \n",
       "std       3.459574    29.444840    20.342259     0.0    24.817513  \n",
       "min       0.000000     0.000000     0.000000     0.0  3333.000000  \n",
       "25%       0.000000     0.000000     0.000000     0.0  3353.000000  \n",
       "50%       0.000000     9.578491     9.162153     0.0  3362.000000  \n",
       "75%       0.000000    30.630342    28.160164     0.0  3374.000000  \n",
       "max      34.583378   147.329130    92.224130     0.0  3454.000000  \n",
       "\n",
       "[8 rows x 65 columns]"
      ]
     },
     "execution_count": 2,
     "metadata": {},
     "output_type": "execute_result"
    }
   ],
   "source": [
    "df.describe()"
   ]
  },
  {
   "cell_type": "code",
   "execution_count": 3,
   "id": "55b4bdaf",
   "metadata": {},
   "outputs": [
    {
     "name": "stdout",
     "output_type": "stream",
     "text": [
      "0               21.167244\n",
      "1                7.914853\n",
      "2               26.955550\n",
      "3                0.001694\n",
      "4               22.496025\n",
      "                 ...     \n",
      "60               0.853183\n",
      "61              21.327060\n",
      "62              17.278656\n",
      "63               0.000000\n",
      "class_name    3365.858194\n",
      "Length: 65, dtype: float64\n",
      "0               21.167244\n",
      "1                7.914853\n",
      "2               26.955550\n",
      "3                0.001694\n",
      "4               22.496025\n",
      "                 ...     \n",
      "60               0.853183\n",
      "61              21.327060\n",
      "62              17.278656\n",
      "63               0.000000\n",
      "class_name    3365.858194\n",
      "Length: 65, dtype: float64\n"
     ]
    }
   ],
   "source": [
    "means=df.mean(axis=0)\n",
    "colmeans=df.mean()\n",
    "print(colmeans)\n",
    "print(means)"
   ]
  },
  {
   "cell_type": "code",
   "execution_count": 5,
   "id": "705a94dd",
   "metadata": {},
   "outputs": [
    {
     "name": "stdout",
     "output_type": "stream",
     "text": [
      "0             21.048915\n",
      "1             11.119147\n",
      "2             34.284395\n",
      "3              0.044561\n",
      "4             24.870716\n",
      "                ...    \n",
      "60             3.459574\n",
      "61            29.444840\n",
      "62            20.342259\n",
      "63             0.000000\n",
      "class_name    24.817513\n",
      "Length: 65, dtype: float64\n",
      "0             21.048915\n",
      "1             11.119147\n",
      "2             34.284395\n",
      "3              0.044561\n",
      "4             24.870716\n",
      "                ...    \n",
      "60             3.459574\n",
      "61            29.444840\n",
      "62            20.342259\n",
      "63             0.000000\n",
      "class_name    24.817513\n",
      "Length: 65, dtype: float64\n"
     ]
    }
   ],
   "source": [
    "starded=df.std(axis=0)\n",
    "col=df.std()\n",
    "print(starded)\n",
    "print(col)"
   ]
  },
  {
   "cell_type": "code",
   "execution_count": 5,
   "id": "cec63797",
   "metadata": {},
   "outputs": [
    {
     "name": "stdout",
     "output_type": "stream",
     "text": [
      " 19.04\n"
     ]
    }
   ],
   "source": [
    "cen1=means.loc['1']\n",
    "cen2=means.loc['2']\n",
    "\n",
    "dis = np.linalg.norm(cen1 - cen2)\n",
    "\n",
    "print(f\" {dis:.2f}\")\n"
   ]
  },
  {
   "cell_type": "code",
   "execution_count": 6,
   "id": "6cc841a5",
   "metadata": {},
   "outputs": [
    {
     "name": "stdout",
     "output_type": "stream",
     "text": [
      "3333.0065789473683\n",
      "0.08111071056538127\n"
     ]
    }
   ],
   "source": [
    "\n",
    "s = df.class_name.iloc[0:152].mean()\n",
    "print(s)\n",
    "a= df.class_name.iloc[0:152].std()\n",
    "print(a)\n"
   ]
  },
  {
   "cell_type": "code",
   "execution_count": 7,
   "id": "0feebc5e",
   "metadata": {},
   "outputs": [
    {
     "name": "stdout",
     "output_type": "stream",
     "text": [
      "3334.0074074074073\n",
      "0.08606629658238704\n"
     ]
    }
   ],
   "source": [
    "s1 = df.class_name.iloc[153:288].mean()\n",
    "print(s1)\n",
    "a1 = df.class_name.iloc[153:288].std()\n",
    "print(a1)"
   ]
  },
  {
   "cell_type": "code",
   "execution_count": 8,
   "id": "dc0e8ef1",
   "metadata": {},
   "outputs": [
    {
     "name": "stdout",
     "output_type": "stream",
     "text": [
      " 1.00\n"
     ]
    }
   ],
   "source": [
    "dis = np.linalg.norm(s1 - s)\n",
    "\n",
    "print(f\" {dis:.2f}\")"
   ]
  },
  {
   "cell_type": "code",
   "execution_count": 9,
   "id": "66b4adcc",
   "metadata": {},
   "outputs": [
    {
     "name": "stdout",
     "output_type": "stream",
     "text": [
      "3335.0132450331125\n",
      "0.16275769175423188\n"
     ]
    }
   ],
   "source": [
    "s3 = df.class_name.iloc[289:440].mean()\n",
    "print(s3)\n",
    "a3 = df.class_name.iloc[289:440].std()\n",
    "print(a3)"
   ]
  },
  {
   "cell_type": "code",
   "execution_count": 10,
   "id": "16c4200f",
   "metadata": {},
   "outputs": [
    {
     "name": "stdout",
     "output_type": "stream",
     "text": [
      "3337.0333333333333\n",
      "0.408248290463863\n"
     ]
    }
   ],
   "source": [
    "s4 = df.class_name.iloc[441:591].mean()\n",
    "print(s4)\n",
    "a4 = df.class_name.iloc[441:591].std()\n",
    "print(a4)"
   ]
  },
  {
   "cell_type": "code",
   "execution_count": 11,
   "id": "0c4281b8",
   "metadata": {},
   "outputs": [
    {
     "name": "stdout",
     "output_type": "stream",
     "text": [
      "3342.00641025641\n",
      "0.08006407690254357\n"
     ]
    }
   ],
   "source": [
    "s5 = df.class_name.iloc[592:748].mean()\n",
    "print(s5)\n",
    "a5 = df.class_name.iloc[592:748].std()\n",
    "print(a5)"
   ]
  },
  {
   "cell_type": "code",
   "execution_count": 14,
   "id": "4bcf192b",
   "metadata": {},
   "outputs": [
    {
     "name": "stdout",
     "output_type": "stream",
     "text": [
      "3343.020979020979\n",
      "0.2508726030021272\n"
     ]
    }
   ],
   "source": [
    "s6 = df.class_name.iloc[749:892].mean()\n",
    "print(s6)\n",
    "a6 = df.class_name.iloc[749:892].std()\n",
    "print(a6)"
   ]
  },
  {
   "cell_type": "code",
   "execution_count": 12,
   "id": "1f6f4a8e",
   "metadata": {},
   "outputs": [
    {
     "name": "stdout",
     "output_type": "stream",
     "text": [
      "3350.0078740157483\n",
      "0.08873565094161137\n"
     ]
    }
   ],
   "source": [
    "s7 = df.class_name.iloc[1234:1361].mean()\n",
    "print(s7)\n",
    "a7 = df.class_name.iloc[1234:1361].std()\n",
    "print(a7)\n",
    "\n",
    "\n"
   ]
  },
  {
   "cell_type": "code",
   "execution_count": 13,
   "id": "db006f97",
   "metadata": {},
   "outputs": [
    {
     "name": "stdout",
     "output_type": "stream",
     "text": [
      "3351.0066225165565\n",
      "0.08137884587711594\n"
     ]
    }
   ],
   "source": [
    "s8 = df.class_name.iloc[1362:1513].mean()\n",
    "print(s8)\n",
    "a8 = df.class_name.iloc[1362:1513].std()\n",
    "print(a8)"
   ]
  },
  {
   "cell_type": "code",
   "execution_count": 14,
   "id": "3bfd577a",
   "metadata": {},
   "outputs": [
    {
     "name": "stdout",
     "output_type": "stream",
     "text": [
      "3352.0095238095237\n",
      "0.09759000729485333\n"
     ]
    }
   ],
   "source": [
    "s9 = df.class_name.iloc[1514:1619].mean()\n",
    "print(s9)\n",
    "a9 = df.class_name.iloc[1514:1619].std()\n",
    "print(a9)"
   ]
  },
  {
   "cell_type": "code",
   "execution_count": 15,
   "id": "b307866e",
   "metadata": {},
   "outputs": [
    {
     "name": "stdout",
     "output_type": "stream",
     "text": [
      "3353.0067567567567\n",
      "0.08219949365267865\n"
     ]
    }
   ],
   "source": [
    "s10 = df.class_name.iloc[1620:1768].mean()\n",
    "print(s10)\n",
    "a10 = df.class_name.iloc[1620:1768].std()\n",
    "print(a10)"
   ]
  },
  {
   "cell_type": "code",
   "execution_count": 19,
   "id": "10a3e94e",
   "metadata": {},
   "outputs": [
    {
     "name": "stdout",
     "output_type": "stream",
     "text": [
      "3354.0058479532163\n",
      "0.07647191129018725\n"
     ]
    }
   ],
   "source": [
    "s11 = df.class_name.iloc[1768:1939].mean()\n",
    "print(s11)\n",
    "a11 = df.class_name.iloc[1768:1939].std()\n",
    "print(a11)"
   ]
  },
  {
   "cell_type": "code",
   "execution_count": 20,
   "id": "0b59d70c",
   "metadata": {},
   "outputs": [
    {
     "name": "stdout",
     "output_type": "stream",
     "text": [
      "3355.008\n",
      "0.08944271909999159\n"
     ]
    }
   ],
   "source": [
    "s12 = df.class_name.iloc[1940:2065].mean()\n",
    "print(s12)\n",
    "a12 = df.class_name.iloc[1940:2065].std()\n",
    "print(a12)"
   ]
  },
  {
   "cell_type": "code",
   "execution_count": 21,
   "id": "359e8c2b",
   "metadata": {},
   "outputs": [
    {
     "name": "stdout",
     "output_type": "stream",
     "text": [
      "3356.0063694267515\n",
      "0.07980868844676221\n"
     ]
    }
   ],
   "source": [
    "s13 = df.class_name.iloc[2066:2223].mean()\n",
    "print(s13)\n",
    "a13 = df.class_name.iloc[2066:2223].std()\n",
    "print(a13)"
   ]
  },
  {
   "cell_type": "code",
   "execution_count": 22,
   "id": "511cac97",
   "metadata": {},
   "outputs": [
    {
     "name": "stdout",
     "output_type": "stream",
     "text": [
      "3357.008547008547\n",
      "0.09245003270420485\n"
     ]
    }
   ],
   "source": [
    "s14 = df.class_name.iloc[2224:2341].mean()\n",
    "print(s14)\n",
    "a14 = df.class_name.iloc[2224:2341].std()\n",
    "\n",
    "print(a14)"
   ]
  },
  {
   "cell_type": "code",
   "execution_count": 23,
   "id": "047a3349",
   "metadata": {},
   "outputs": [
    {
     "name": "stdout",
     "output_type": "stream",
     "text": [
      "3358.008849557522\n",
      "0.09407208683835973\n"
     ]
    }
   ],
   "source": [
    "s15 = df.class_name.iloc[2342:2455].mean()\n",
    "print(s15)\n",
    "a15 = df.class_name.iloc[2342:2455].std()\n",
    "print(a15)"
   ]
  },
  {
   "cell_type": "code",
   "execution_count": 24,
   "id": "ee08a832",
   "metadata": {},
   "outputs": [
    {
     "name": "stdout",
     "output_type": "stream",
     "text": [
      "3359.0038022813687\n",
      "0.06166264159782074\n"
     ]
    }
   ],
   "source": [
    "s16 = df.class_name.iloc[2456:2719].mean()\n",
    "print(s16)\n",
    "a16 = df.class_name.iloc[2456:2719].std()\n",
    "print(a16)"
   ]
  },
  {
   "cell_type": "code",
   "execution_count": 25,
   "id": "46e4dd02",
   "metadata": {},
   "outputs": [
    {
     "name": "stdout",
     "output_type": "stream",
     "text": [
      "3359.977049180328\n",
      "0.17051917879375583\n"
     ]
    }
   ],
   "source": [
    "s17 = df.class_name.iloc[2710:3015].mean()\n",
    "print(s17)\n",
    "a17 = df.class_name.iloc[2710:3015].std()\n",
    "print(a17)"
   ]
  },
  {
   "cell_type": "code",
   "execution_count": 26,
   "id": "327e7fbb",
   "metadata": {},
   "outputs": [
    {
     "name": "stdout",
     "output_type": "stream",
     "text": [
      "3361.0034843205576\n",
      "0.059028133610095526\n"
     ]
    }
   ],
   "source": [
    "s18 = df.class_name.iloc[3016:3303].mean()\n",
    "print(s18)\n",
    "a18 = df.class_name.iloc[3016:3303].std()\n",
    "print(a18)"
   ]
  },
  {
   "cell_type": "code",
   "execution_count": 27,
   "id": "05f64c14",
   "metadata": {},
   "outputs": [
    {
     "name": "stdout",
     "output_type": "stream",
     "text": [
      "3362.0034843205576\n",
      "0.059028133610095526\n"
     ]
    }
   ],
   "source": [
    "s19 = df.class_name.iloc[3304:3591].mean()\n",
    "print(s19)\n",
    "a19 = df.class_name.iloc[3304:3591].std()\n",
    "print(a19)"
   ]
  },
  {
   "cell_type": "code",
   "execution_count": 28,
   "id": "3d58816b",
   "metadata": {},
   "outputs": [
    {
     "name": "stdout",
     "output_type": "stream",
     "text": [
      "3363.004255319149\n",
      "0.06523280730534423\n"
     ]
    }
   ],
   "source": [
    "s20 = df.class_name.iloc[3592:3827].mean()\n",
    "print(s20)\n",
    "a20 = df.class_name.iloc[3592:3827].std()\n",
    "print(a20)"
   ]
  },
  {
   "cell_type": "code",
   "execution_count": 29,
   "id": "c5a49c57",
   "metadata": {},
   "outputs": [
    {
     "name": "stdout",
     "output_type": "stream",
     "text": [
      "3364.0064935064934\n",
      "0.08058229640253803\n"
     ]
    }
   ],
   "source": [
    "s21 = df.class_name.iloc[3827:3981].mean()\n",
    "print(s21)\n",
    "a21= df.class_name.iloc[3827:3981].std()\n",
    "print(a21)"
   ]
  },
  {
   "cell_type": "code",
   "execution_count": 30,
   "id": "0fa267e3",
   "metadata": {},
   "outputs": [
    {
     "name": "stdout",
     "output_type": "stream",
     "text": [
      "3365.009259259259\n",
      "0.09622504486493763\n"
     ]
    }
   ],
   "source": [
    "s22 = df.class_name.iloc[3982:4090].mean()\n",
    "print(s22)\n",
    "a22 = df.class_name.iloc[3982:4090].std()\n",
    "print(a22)"
   ]
  },
  {
   "cell_type": "code",
   "execution_count": 31,
   "id": "42368977",
   "metadata": {},
   "outputs": [
    {
     "name": "stdout",
     "output_type": "stream",
     "text": [
      "3366.0080645161293\n",
      "0.08980265101338746\n"
     ]
    }
   ],
   "source": [
    "s23 = df.class_name.iloc[4091:4215].mean()\n",
    "print(s23)\n",
    "s23 = df.class_name.iloc[4091:4215].std()\n",
    "print(s23)"
   ]
  },
  {
   "cell_type": "code",
   "execution_count": 32,
   "id": "45c3f918",
   "metadata": {},
   "outputs": [
    {
     "name": "stdout",
     "output_type": "stream",
     "text": [
      "3367.0095238095237\n",
      "0.09759000729485333\n"
     ]
    }
   ],
   "source": [
    "s24 = df.class_name.iloc[4216:4321].mean()\n",
    "print(s24)\n",
    "s24 = df.class_name.iloc[4216:4321].std()\n",
    "print(s24)"
   ]
  },
  {
   "cell_type": "code",
   "execution_count": 33,
   "id": "272171c2",
   "metadata": {},
   "outputs": [
    {
     "name": "stdout",
     "output_type": "stream",
     "text": [
      "3368.0138888888887\n",
      "0.16666666666666669\n"
     ]
    }
   ],
   "source": [
    "s25 = df.class_name.iloc[4322:4466].mean()\n",
    "print(s25)\n",
    "a25 = df.class_name.iloc[4322:4466].std()\n",
    "print(a25)"
   ]
  },
  {
   "cell_type": "code",
   "execution_count": 34,
   "id": "d6db9d27",
   "metadata": {},
   "outputs": [
    {
     "name": "stdout",
     "output_type": "stream",
     "text": [
      "3370.015625\n",
      "0.12450690143095285\n"
     ]
    }
   ],
   "source": [
    "s26 = df.class_name.iloc[4467:4595].mean()\n",
    "print(s26)\n",
    "a26 = df.class_name.iloc[4467:4595].std()\n",
    "print(a26)"
   ]
  },
  {
   "cell_type": "code",
   "execution_count": 35,
   "id": "65d60a25",
   "metadata": {},
   "outputs": [
    {
     "name": "stdout",
     "output_type": "stream",
     "text": [
      "3371.010989010989\n",
      "0.10482848367219183\n"
     ]
    }
   ],
   "source": [
    "s27 = df.class_name.iloc[4596:4687].mean()\n",
    "print(s27)\n",
    "a27 = df.class_name.iloc[4596:4687].std()\n",
    "print(a27)"
   ]
  },
  {
   "cell_type": "code",
   "execution_count": 37,
   "id": "7a61facc",
   "metadata": {},
   "outputs": [
    {
     "name": "stdout",
     "output_type": "stream",
     "text": [
      "3372.010101010101\n",
      "0.10050378152592121\n"
     ]
    }
   ],
   "source": [
    "s28 = df.class_name.iloc[4688:4787].mean()\n",
    "print(s28)\n",
    "a28 = df.class_name.iloc[4688:4787].std()\n",
    "\n",
    "print(a28)"
   ]
  },
  {
   "cell_type": "code",
   "execution_count": 36,
   "id": "7447360d",
   "metadata": {},
   "outputs": [
    {
     "name": "stdout",
     "output_type": "stream",
     "text": [
      "3373.008849557522\n",
      "0.09407208683835973\n"
     ]
    }
   ],
   "source": [
    "s29 = df.class_name.iloc[4788:4901].mean()\n",
    "print(s29)\n",
    "a29 = df.class_name.iloc[4788:4901].std()\n",
    "print(a29)"
   ]
  },
  {
   "cell_type": "code",
   "execution_count": 38,
   "id": "313805d4",
   "metadata": {},
   "outputs": [
    {
     "name": "stdout",
     "output_type": "stream",
     "text": [
      "3374.008849557522\n",
      "0.09407208683835973\n"
     ]
    }
   ],
   "source": [
    "s30 = df.class_name.iloc[4902:5015].mean()\n",
    "print(s30)\n",
    "a30 = df.class_name.iloc[4902:5015].std()\n",
    "print(a30)"
   ]
  },
  {
   "cell_type": "code",
   "execution_count": 39,
   "id": "29504f1a",
   "metadata": {},
   "outputs": [
    {
     "name": "stdout",
     "output_type": "stream",
     "text": [
      "3375.0135135135133\n",
      "0.11585156386582048\n"
     ]
    }
   ],
   "source": [
    "s31 = df.class_name.iloc[5015:5163].mean()\n",
    "print(s31)\n",
    "a31 = df.class_name.iloc[5015:5163].std()\n",
    "print(a31)"
   ]
  },
  {
   "cell_type": "code",
   "execution_count": 40,
   "id": "b7c28909",
   "metadata": {},
   "outputs": [
    {
     "name": "stdout",
     "output_type": "stream",
     "text": [
      "3376.0068493150684\n",
      "0.0827605888602368\n"
     ]
    }
   ],
   "source": [
    "s32 = df.class_name.iloc[5164:5310].mean()\n",
    "print(s32)\n",
    "a32 = df.class_name.iloc[5164:5310].std()\n",
    "print(a32)"
   ]
  },
  {
   "cell_type": "code",
   "execution_count": 41,
   "id": "a341d2c7",
   "metadata": {},
   "outputs": [
    {
     "name": "stdout",
     "output_type": "stream",
     "text": [
      "3377.008547008547\n",
      "0.09245003270420485\n"
     ]
    }
   ],
   "source": [
    "s33 = df.class_name.iloc[5310:5427].mean()\n",
    "print(s33)\n",
    "a33 = df.class_name.iloc[5310:5427].std()\n",
    "print(a33)"
   ]
  },
  {
   "cell_type": "code",
   "execution_count": 42,
   "id": "28ff016b",
   "metadata": {},
   "outputs": [
    {
     "name": "stdout",
     "output_type": "stream",
     "text": [
      "3378.007692307692\n",
      "0.08770580193070292\n"
     ]
    }
   ],
   "source": [
    "s34 = df.class_name.iloc[5428:5558].mean()\n",
    "print(s34)\n",
    "a34 = df.class_name.iloc[5428:5558].std()\n",
    "print(a34)"
   ]
  },
  {
   "cell_type": "code",
   "execution_count": 43,
   "id": "0efa2c7a",
   "metadata": {},
   "outputs": [
    {
     "name": "stdout",
     "output_type": "stream",
     "text": [
      "3379.0\n",
      "0.0\n"
     ]
    }
   ],
   "source": [
    "s35 = df.class_name.iloc[5559:5653].mean()\n",
    "print(s35)\n",
    "a35 = df.class_name.iloc[5559:5653].std()\n",
    "print(a35)"
   ]
  },
  {
   "cell_type": "code",
   "execution_count": 44,
   "id": "f13fc7cd",
   "metadata": {},
   "outputs": [
    {
     "name": "stdout",
     "output_type": "stream",
     "text": [
      "3380.0116279069766\n",
      "0.10783277320343841\n"
     ]
    }
   ],
   "source": [
    "s36 = df.class_name.iloc[5657:5743].mean()\n",
    "print(s36)\n",
    "a36 = df.class_name.iloc[5657:5743].std()\n",
    "print(a36)"
   ]
  },
  {
   "cell_type": "code",
   "execution_count": 45,
   "id": "98e9f22e",
   "metadata": {},
   "outputs": [
    {
     "name": "stdout",
     "output_type": "stream",
     "text": [
      "3381.0068027210887\n",
      "0.08247860988423225\n"
     ]
    }
   ],
   "source": [
    "s37 = df.class_name.iloc[5744:5891].mean()\n",
    "print(s37)\n",
    "a37 = df.class_name.iloc[5744:5891].std()\n",
    "print(a37)"
   ]
  },
  {
   "cell_type": "code",
   "execution_count": 46,
   "id": "3fcca898",
   "metadata": {},
   "outputs": [
    {
     "name": "stdout",
     "output_type": "stream",
     "text": [
      "3382.0108695652175\n",
      "0.10425720702853739\n"
     ]
    }
   ],
   "source": [
    "s38 = df.class_name.iloc[5892:5984].mean()\n",
    "print(s38)\n",
    "a38 = df.class_name.iloc[5892:5984].std()\n",
    "print(a38)"
   ]
  },
  {
   "cell_type": "code",
   "execution_count": 47,
   "id": "da7263ee",
   "metadata": {},
   "outputs": [
    {
     "name": "stdout",
     "output_type": "stream",
     "text": [
      "3383.0096153846152\n",
      "0.09805806756909202\n"
     ]
    }
   ],
   "source": [
    "s39 = df.class_name.iloc[5985:6089].mean()\n",
    "print(s39)\n",
    "a39 = df.class_name.iloc[5985:6089].std()\n",
    "print(a39)\n"
   ]
  },
  {
   "cell_type": "code",
   "execution_count": 48,
   "id": "49c82db8",
   "metadata": {},
   "outputs": [
    {
     "name": "stdout",
     "output_type": "stream",
     "text": [
      "3384.009090909091\n",
      "0.09534625892455924\n"
     ]
    }
   ],
   "source": [
    "s40 = df.class_name.iloc[6090:6200].mean()\n",
    "print(s40)\n",
    "a40 = df.class_name.iloc[6090:6200].std()\n",
    "print(a40)"
   ]
  },
  {
   "cell_type": "code",
   "execution_count": 49,
   "id": "4e1c50fb",
   "metadata": {},
   "outputs": [
    {
     "name": "stdout",
     "output_type": "stream",
     "text": [
      "3385.7471264367814\n",
      "6.968731476445667\n"
     ]
    }
   ],
   "source": [
    "s41 = df.class_name.iloc[6201:6288].mean()\n",
    "print(s41)\n",
    "a41 = df.class_name.iloc[6201:6288].std()\n",
    "print(a41)"
   ]
  },
  {
   "cell_type": "code",
   "execution_count": 50,
   "id": "140657c0",
   "metadata": {},
   "outputs": [
    {
     "name": "stdout",
     "output_type": "stream",
     "text": [
      "3450.0158730158732\n",
      "0.12598815766974242\n"
     ]
    }
   ],
   "source": [
    "s42 = df.class_name.iloc[6289:6352].mean()\n",
    "print(s42)\n",
    "a42 = df.class_name.iloc[6289:6352].std()\n",
    "\n",
    "print(a42)"
   ]
  },
  {
   "cell_type": "code",
   "execution_count": 51,
   "id": "7dfa45cf",
   "metadata": {},
   "outputs": [
    {
     "name": "stdout",
     "output_type": "stream",
     "text": [
      "3451.0169491525426\n",
      "0.13018891098082386\n"
     ]
    }
   ],
   "source": [
    "s43 = df.class_name.iloc[6353:6412].mean()\n",
    "print(s43)\n",
    "a43 = df.class_name.iloc[6353:6412].std()\n",
    "print(a43)"
   ]
  },
  {
   "cell_type": "code",
   "execution_count": 67,
   "id": "2b47e3f0",
   "metadata": {},
   "outputs": [
    {
     "name": "stdout",
     "output_type": "stream",
     "text": [
      "3452.012987012987\n",
      "0.11396057645963795\n"
     ]
    }
   ],
   "source": [
    "s44 = df.class_name.iloc[6413:6490].mean()\n",
    "print(s44)\n",
    "a44 = df.class_name.iloc[6413:6490].std()\n",
    "print(a44)"
   ]
  },
  {
   "cell_type": "code",
   "execution_count": 52,
   "id": "e915ddd8",
   "metadata": {},
   "outputs": [
    {
     "name": "stdout",
     "output_type": "stream",
     "text": [
      "3453.0114942528735\n",
      "0.10721125348377948\n"
     ]
    }
   ],
   "source": [
    "s45 = df.class_name.iloc[6491:6578].mean()\n",
    "print(s45)\n",
    "a45 = df.class_name.iloc[6491:6578].std()\n",
    "print(a45)"
   ]
  },
  {
   "cell_type": "code",
   "execution_count": 53,
   "id": "1787f260",
   "metadata": {},
   "outputs": [
    {
     "name": "stdout",
     "output_type": "stream",
     "text": [
      "3454.0\n",
      "0.0\n"
     ]
    }
   ],
   "source": [
    "s46 = df.class_name.iloc[  6579:6658 ].mean()\n",
    "print(s46)\n",
    "a46 = df.class_name.iloc[  6579:6658 ].std()\n",
    "print(a46)"
   ]
  },
  {
   "cell_type": "code",
   "execution_count": 54,
   "id": "55752802",
   "metadata": {},
   "outputs": [
    {
     "data": {
      "text/plain": [
       "113.88492503658134"
      ]
     },
     "execution_count": 54,
     "metadata": {},
     "output_type": "execute_result"
    }
   ],
   "source": [
    "#1\n",
    "np.dot(df[\"0\"],df[\"45\"])"
   ]
  },
  {
   "cell_type": "code",
   "execution_count": 55,
   "id": "e1a89b00",
   "metadata": {},
   "outputs": [
    {
     "data": {
      "text/plain": [
       "2435.502005891182"
      ]
     },
     "execution_count": 55,
     "metadata": {},
     "output_type": "execute_result"
    }
   ],
   "source": [
    "#1\n",
    "np.linalg.norm(df[\"0\"])"
   ]
  },
  {
   "cell_type": "code",
   "execution_count": 59,
   "id": "8cf612c6",
   "metadata": {},
   "outputs": [
    {
     "data": {
      "text/plain": [
       "0               31.041534\n",
       "1                0.309216\n",
       "2                9.149055\n",
       "3                0.007348\n",
       "4               37.098322\n",
       "                 ...     \n",
       "60               0.015213\n",
       "61               0.098929\n",
       "62              16.328774\n",
       "63               0.000000\n",
       "class_name    3334.000000\n",
       "Length: 65, dtype: float64"
      ]
     },
     "execution_count": 59,
     "metadata": {},
     "output_type": "execute_result"
    }
   ],
   "source": [
    "#1\n",
    "class_A_data = df[df['class_name'] == 3334]\n",
    "class_B_data = df[df['class_name'] == 3335]\n",
    "centroid_A = np.mean(class_A_data, axis=0)\n",
    "centroid_B = np.mean(class_B_data, axis=0)\n",
    "centroid_A\n"
   ]
  },
  {
   "cell_type": "code",
   "execution_count": 61,
   "id": "d8feed59",
   "metadata": {},
   "outputs": [
    {
     "data": {
      "text/plain": [
       "0               33.954744\n",
       "1                7.803311\n",
       "2                0.929065\n",
       "3                0.000000\n",
       "4               48.753925\n",
       "                 ...     \n",
       "60               0.035407\n",
       "61               5.166118\n",
       "62              24.849326\n",
       "63               0.000000\n",
       "class_name    3335.000000\n",
       "Length: 65, dtype: float64"
      ]
     },
     "execution_count": 61,
     "metadata": {},
     "output_type": "execute_result"
    }
   ],
   "source": [
    "centroid_B"
   ]
  },
  {
   "cell_type": "code",
   "execution_count": 63,
   "id": "3d77cc47",
   "metadata": {},
   "outputs": [],
   "source": [
    "centroid_A = np.std(class_A_data,axis=0)\n",
    "centroid_B = np.std(class_B_data,axis=0)"
   ]
  },
  {
   "cell_type": "code",
   "execution_count": 65,
   "id": "49f2abe9",
   "metadata": {},
   "outputs": [
    {
     "data": {
      "text/plain": [
       "0             14.117133\n",
       "1              4.608137\n",
       "2              4.158898\n",
       "3              0.000000\n",
       "4             21.907818\n",
       "                ...    \n",
       "60             0.435084\n",
       "61             6.307505\n",
       "62            10.803543\n",
       "63             0.000000\n",
       "class_name     0.000000\n",
       "Length: 65, dtype: float64"
      ]
     },
     "execution_count": 65,
     "metadata": {},
     "output_type": "execute_result"
    }
   ],
   "source": [
    "centroid_A\n",
    "centroid_B"
   ]
  },
  {
   "cell_type": "code",
   "execution_count": 66,
   "id": "60e9a5c4",
   "metadata": {},
   "outputs": [
    {
     "data": {
      "text/plain": [
       "32.2593893920739"
      ]
     },
     "execution_count": 66,
     "metadata": {},
     "output_type": "execute_result"
    }
   ],
   "source": [
    "x = np.linalg.norm(centroid_A - centroid_B)\n",
    "x"
   ]
  },
  {
   "cell_type": "code",
   "execution_count": 67,
   "id": "ea370201",
   "metadata": {},
   "outputs": [
    {
     "data": {
      "image/png": "[encoded data removed]",
      "text/plain": [
       "<Figure size 640x480 with 1 Axes>"
      ]
     },
     "metadata": {},
     "output_type": "display_data"
    }
   ],
   "source": [
    "#2\n",
    "import matplotlib.pyplot as plt\n",
    "\n",
    "selected_feature = df['0']\n",
    "num_bins =8\n",
    "hist, bins = np.histogram(selected_feature, bins=num_bins)\n",
    "\n",
    "plt.hist(selected_feature, bins=num_bins,  color='w', edgecolor='black')\n",
    "plt.xlabel('Value')\n",
    "plt.ylabel('Frequency')\n",
    "plt.title('Histogram of Selected Feature')\n",
    "plt.show()\n"
   ]
  },
  {
   "cell_type": "code",
   "execution_count": 69,
   "id": "64b50382",
   "metadata": {},
   "outputs": [
    {
     "data": {
      "image/png": "[encoded data removed]",
      "text/plain": [
       "<Figure size 640x480 with 1 Axes>"
      ]
     },
     "metadata": {},
     "output_type": "display_data"
    }
   ],
   "source": [
    "#3\n",
    "vector1 = df.iloc[0, :]  \n",
    "vector2 = df.iloc[1, :]  \n",
    "distances = []\n",
    "r_values = list(range(1, 11))\n",
    "for r in r_values:\n",
    "    distance = np.power(np.sum(np.abs(vector1 - vector2) ** r), 1/r)\n",
    "    distances.append(distance)\n",
    "\n",
    "plt.plot(r_values, distances, marker='s', linestyle='--')\n",
    "plt.xlabel('r')\n",
    "plt.ylabel('Minkowski Distance')\n",
    "plt.title('Minkowski Distance vs. r')\n",
    "plt.grid(True)\n",
    "plt.show()"
   ]
  },
  {
   "cell_type": "code",
   "execution_count": 70,
   "id": "41ee6de4",
   "metadata": {},
   "outputs": [],
   "source": [
    "#4\n",
    "from sklearn.model_selection import train_test_split\n",
    "X = df.iloc[:, :-1]\n",
    "y = df.iloc[:, -1]\n",
    "\n",
    "X_train, X_test, y_train, y_test = train_test_split(X, y, test_size=0.3)\n"
   ]
  },
  {
   "cell_type": "code",
   "execution_count": 72,
   "id": "7c577d7d",
   "metadata": {},
   "outputs": [
    {
     "data": {
      "text/plain": [
       "5700    3380\n",
       "6130    3384\n",
       "6543    3453\n",
       "5969    3382\n",
       "5152    3375\n",
       "        ... \n",
       "2619    3359\n",
       "6624    3454\n",
       "4174    3366\n",
       "6477    3452\n",
       "5761    3381\n",
       "Name: class_name, Length: 1998, dtype: int64"
      ]
     },
     "execution_count": 72,
     "metadata": {},
     "output_type": "execute_result"
    }
   ],
   "source": [
    "y_test"
   ]
  },
  {
   "cell_type": "code",
   "execution_count": 21,
   "id": "8db7848e",
   "metadata": {},
   "outputs": [
    {
     "name": "stdout",
     "output_type": "stream",
     "text": [
      "              0         1          2    3          4          5          6  \\\n",
      "0     27.630783  0.000000  51.067493  0.0  26.302004   0.000000   0.000000   \n",
      "1     41.934185  0.000000  57.616398  0.0  40.345722   0.000000   0.000000   \n",
      "2     59.681458  0.000000  35.450397  0.0  51.084698   0.000000   0.000000   \n",
      "3     25.652845  0.000000  42.711246  0.0  26.391441   0.000000   0.000000   \n",
      "4     51.862490  0.000000  25.455917  0.0  48.505250   0.000000   0.000000   \n",
      "...         ...       ...        ...  ...        ...        ...        ...   \n",
      "6652   0.000000  8.917019  12.606703  0.0   0.000000  23.875010   0.000000   \n",
      "6653  12.088920  3.646342  28.106102  0.0   0.000000   0.000000   0.000000   \n",
      "6654   0.000000  0.000000  53.899130  0.0   0.000000   0.000000  12.079654   \n",
      "6655   0.000000  0.000000  37.811558  0.0   0.000000   0.000000   8.555406   \n",
      "6656   0.000000  0.000000  29.105694  0.0   0.000000   8.669491  20.568624   \n",
      "\n",
      "        7    8         9  ...         55         56   57         58  \\\n",
      "0     0.0  0.0  0.000000  ...  35.563477   8.822042  0.0  18.269510   \n",
      "1     0.0  0.0  0.000000  ...  33.432617  22.573324  0.0  25.266916   \n",
      "2     0.0  0.0  4.531399  ...  17.747238  22.295591  0.0   9.600313   \n",
      "3     0.0  0.0  0.000000  ...  25.998358  12.029038  0.0  19.127953   \n",
      "4     0.0  0.0  0.000000  ...  27.024067   1.758605  0.0  17.696215   \n",
      "...   ...  ...       ...  ...        ...        ...  ...        ...   \n",
      "6652  0.0  0.0  9.403310  ...   0.000000   9.477231  0.0   0.000000   \n",
      "6653  0.0  0.0  0.000000  ...   0.000000   0.000000  0.0   0.000000   \n",
      "6654  0.0  0.0  0.000000  ...  12.388772  58.245360  0.0   0.000000   \n",
      "6655  0.0  0.0  0.000000  ...   7.663426  23.674717  0.0   0.000000   \n",
      "6656  0.0  0.0  0.000000  ...  11.354428  39.144600  0.0   0.000000   \n",
      "\n",
      "             59         60         61         62   63  class_name  \n",
      "0     82.596970   0.000000   0.000000   1.751286  0.0        3333  \n",
      "1     71.188900   0.000000   0.000000   0.000000  0.0        3333  \n",
      "2     39.380276   0.000000   0.000000  13.358544  0.0        3333  \n",
      "3     60.226376   0.000000   0.000000   0.000000  0.0        3333  \n",
      "4     64.634834   0.000000   0.000000   9.861172  0.0        3333  \n",
      "...         ...        ...        ...        ...  ...         ...  \n",
      "6652  46.723995   0.000000  20.901190   7.003646  0.0        3454  \n",
      "6653  38.677414   0.000000   1.824834   7.562943  0.0        3454  \n",
      "6654  47.787598   5.880453   0.000000   3.556168  0.0        3454  \n",
      "6655  53.260387   3.350826   0.000000   8.673196  0.0        3454  \n",
      "6656  62.376480  13.449656   0.000000  10.945368  0.0        3454  \n",
      "\n",
      "[6657 rows x 65 columns]\n"
     ]
    },
    {
     "data": {
      "text/plain": [
       "(6657, 65)"
      ]
     },
     "execution_count": 21,
     "metadata": {},
     "output_type": "execute_result"
    }
   ],
   "source": [
    "import pandas as pd\n",
    "import numpy as np\n",
    "import seaborn as sns\n",
    "import matplotlib.pyplot as plt\n",
    "from sklearn.model_selection import train_test_split\n",
    "\n",
    "from sklearn.neighbors import KNeighborsClassifier\n",
    "from sklearn.metrics import accuracy_score\n",
    "\n",
    "from sklearn.model_selection import train_test_split\n",
    "\n",
    "# Displaying the Data set for given excel\n",
    "dt=pd.read_csv(r\"D:\\extracted_features_charrec_dense7.csv\")\n",
    "print(dt)\n",
    "dt.shape"
   ]
  },
  {
   "cell_type": "code",
   "execution_count": 25,
   "id": "72951070",
   "metadata": {},
   "outputs": [
    {
     "ename": "AttributeError",
     "evalue": "'numpy.ndarray' object has no attribute 'describe'",
     "output_type": "error",
     "traceback": [
      "\u001b[1;31m---------------------------------------------------------------------------\u001b[0m",
      "\u001b[1;31mAttributeError\u001b[0m                            Traceback (most recent call last)",
      "Cell \u001b[1;32mIn[25], line 10\u001b[0m\n\u001b[0;32m      8\u001b[0m \u001b[38;5;66;03m# Save the data as a NumPy file\u001b[39;00m\n\u001b[0;32m      9\u001b[0m np\u001b[38;5;241m.\u001b[39msavez(\u001b[38;5;124m'\u001b[39m\u001b[38;5;124mextracted_features_charrec_dense7.npz\u001b[39m\u001b[38;5;124m'\u001b[39m, X\u001b[38;5;241m=\u001b[39mX, y\u001b[38;5;241m=\u001b[39my)\n\u001b[1;32m---> 10\u001b[0m data\u001b[38;5;241m.\u001b[39mdescribe()\n",
      "\u001b[1;31mAttributeError\u001b[0m: 'numpy.ndarray' object has no attribute 'describe'"
     ]
    }
   ],
   "source": [
    "\n",
    "# Load the CSV file using numpy.genfromtxt()\n",
    "data = np.genfromtxt(r\"D:\\extracted_features_charrec_dense7.csv\", delimiter=',', skip_header=1)\n",
    "\n",
    "# Extract feature vectors and class labels\n",
    "X = data[:, :-1]\n",
    "y = data[:, -1]\n",
    "\n",
    "# Save the data as a NumPy file\n",
    "np.savez('extracted_features_charrec_dense7.npz', X=X, y=y)\n"
   ]
  },
  {
   "cell_type": "code",
   "execution_count": 27,
   "id": "e486b09a",
   "metadata": {},
   "outputs": [
    {
     "data": {
      "text/plain": [
       "array([0.0000000e+00, 3.4163892e-04, 4.6131015e-04, ..., 3.4520000e+03,\n",
       "       3.4530000e+03, 3.4540000e+03])"
      ]
     },
     "execution_count": 27,
     "metadata": {},
     "output_type": "execute_result"
    }
   ],
   "source": [
    "np.unique(data)"
   ]
  },
  {
   "cell_type": "code",
   "execution_count": 28,
   "id": "24f7ab8f",
   "metadata": {},
   "outputs": [
    {
     "data": {
      "text/plain": [
       "array([[2.7630783e+01, 0.0000000e+00, 5.1067493e+01, ..., 1.7512865e+00,\n",
       "        0.0000000e+00, 3.3330000e+03],\n",
       "       [4.1934185e+01, 0.0000000e+00, 5.7616398e+01, ..., 0.0000000e+00,\n",
       "        0.0000000e+00, 3.3330000e+03],\n",
       "       [5.9681458e+01, 0.0000000e+00, 3.5450397e+01, ..., 1.3358544e+01,\n",
       "        0.0000000e+00, 3.3330000e+03],\n",
       "       ...,\n",
       "       [0.0000000e+00, 0.0000000e+00, 5.3899130e+01, ..., 3.5561680e+00,\n",
       "        0.0000000e+00, 3.4540000e+03],\n",
       "       [0.0000000e+00, 0.0000000e+00, 3.7811558e+01, ..., 8.6731960e+00,\n",
       "        0.0000000e+00, 3.4540000e+03],\n",
       "       [0.0000000e+00, 0.0000000e+00, 2.9105694e+01, ..., 1.0945368e+01,\n",
       "        0.0000000e+00, 3.4540000e+03]])"
      ]
     },
     "execution_count": 28,
     "metadata": {},
     "output_type": "execute_result"
    }
   ],
   "source": [
    "zero_rows_mask = (data==0).any(axis=1)\n",
    "class1= data[zero_rows_mask]\n",
    "class1"
   ]
  },
  {
   "cell_type": "code",
   "execution_count": 30,
   "id": "849dd648",
   "metadata": {},
   "outputs": [
    {
     "data": {
      "text/plain": [
       "array([[   0.       ,    3.5745394,   31.44596  , ...,    0.       ,\n",
       "           0.       , 3454.       ],\n",
       "       [   0.       ,    9.891518 ,   17.99879  , ...,    0.       ,\n",
       "           0.       , 3454.       ],\n",
       "       [   0.       ,    9.891518 ,   17.99879  , ...,    0.       ,\n",
       "           0.       , 3454.       ],\n",
       "       ...,\n",
       "       [   0.       ,    0.       ,   53.89913  , ...,    3.556168 ,\n",
       "           0.       , 3454.       ],\n",
       "       [   0.       ,    0.       ,   37.811558 , ...,    8.673196 ,\n",
       "           0.       , 3454.       ],\n",
       "       [   0.       ,    0.       ,   29.105694 , ...,   10.945368 ,\n",
       "           0.       , 3454.       ]])"
      ]
     },
     "execution_count": 30,
     "metadata": {},
     "output_type": "execute_result"
    }
   ],
   "source": [
    "one_rows_mask = (data == 3.4540000e+03).any(axis=1)\n",
    "class2=data[one_rows_mask]\n",
    "class2"
   ]
  },
  {
   "cell_type": "code",
   "execution_count": 31,
   "id": "34195ac6",
   "metadata": {},
   "outputs": [
    {
     "data": {
      "text/html": [
       "<style>#sk-container-id-1 {color: black;}#sk-container-id-1 pre{padding: 0;}#sk-container-id-1 div.sk-toggleable {background-color: white;}#sk-container-id-1 label.sk-toggleable__label {cursor: pointer;display: block;width: 100%;margin-bottom: 0;padding: 0.3em;box-sizing: border-box;text-align: center;}#sk-container-id-1 label.sk-toggleable__label-arrow:before {content: \"▸\";float: left;margin-right: 0.25em;color: #696969;}#sk-container-id-1 label.sk-toggleable__label-arrow:hover:before {color: black;}#sk-container-id-1 div.sk-estimator:hover label.sk-toggleable__label-arrow:before {color: black;}#sk-container-id-1 div.sk-toggleable__content {max-height: 0;max-width: 0;overflow: hidden;text-align: left;background-color: #f0f8ff;}#sk-container-id-1 div.sk-toggleable__content pre {margin: 0.2em;color: black;border-radius: 0.25em;background-color: #f0f8ff;}#sk-container-id-1 input.sk-toggleable__control:checked~div.sk-toggleable__content {max-height: 200px;max-width: 100%;overflow: auto;}#sk-container-id-1 input.sk-toggleable__control:checked~label.sk-toggleable__label-arrow:before {content: \"▾\";}#sk-container-id-1 div.sk-estimator input.sk-toggleable__control:checked~label.sk-toggleable__label {background-color: #d4ebff;}#sk-container-id-1 div.sk-label input.sk-toggleable__control:checked~label.sk-toggleable__label {background-color: #d4ebff;}#sk-container-id-1 input.sk-hidden--visually {border: 0;clip: rect(1px 1px 1px 1px);clip: rect(1px, 1px, 1px, 1px);height: 1px;margin: -1px;overflow: hidden;padding: 0;position: absolute;width: 1px;}#sk-container-id-1 div.sk-estimator {font-family: monospace;background-color: #f0f8ff;border: 1px dotted black;border-radius: 0.25em;box-sizing: border-box;margin-bottom: 0.5em;}#sk-container-id-1 div.sk-estimator:hover {background-color: #d4ebff;}#sk-container-id-1 div.sk-parallel-item::after {content: \"\";width: 100%;border-bottom: 1px solid gray;flex-grow: 1;}#sk-container-id-1 div.sk-label:hover label.sk-toggleable__label {background-color: #d4ebff;}#sk-container-id-1 div.sk-serial::before {content: \"\";position: absolute;border-left: 1px solid gray;box-sizing: border-box;top: 0;bottom: 0;left: 50%;z-index: 0;}#sk-container-id-1 div.sk-serial {display: flex;flex-direction: column;align-items: center;background-color: white;padding-right: 0.2em;padding-left: 0.2em;position: relative;}#sk-container-id-1 div.sk-item {position: relative;z-index: 1;}#sk-container-id-1 div.sk-parallel {display: flex;align-items: stretch;justify-content: center;background-color: white;position: relative;}#sk-container-id-1 div.sk-item::before, #sk-container-id-1 div.sk-parallel-item::before {content: \"\";position: absolute;border-left: 1px solid gray;box-sizing: border-box;top: 0;bottom: 0;left: 50%;z-index: -1;}#sk-container-id-1 div.sk-parallel-item {display: flex;flex-direction: column;z-index: 1;position: relative;background-color: white;}#sk-container-id-1 div.sk-parallel-item:first-child::after {align-self: flex-end;width: 50%;}#sk-container-id-1 div.sk-parallel-item:last-child::after {align-self: flex-start;width: 50%;}#sk-container-id-1 div.sk-parallel-item:only-child::after {width: 0;}#sk-container-id-1 div.sk-dashed-wrapped {border: 1px dashed gray;margin: 0 0.4em 0.5em 0.4em;box-sizing: border-box;padding-bottom: 0.4em;background-color: white;}#sk-container-id-1 div.sk-label label {font-family: monospace;font-weight: bold;display: inline-block;line-height: 1.2em;}#sk-container-id-1 div.sk-label-container {text-align: center;}#sk-container-id-1 div.sk-container {/* jupyter's `normalize.less` sets `[hidden] { display: none; }` but bootstrap.min.css set `[hidden] { display: none !important; }` so we also need the `!important` here to be able to override the default hidden behavior on the sphinx rendered scikit-learn.org. See: https://github.com/scikit-learn/scikit-learn/issues/21755 */display: inline-block !important;position: relative;}#sk-container-id-1 div.sk-text-repr-fallback {display: none;}</style><div id=\"sk-container-id-1\" class=\"sk-top-container\"><div class=\"sk-text-repr-fallback\"><pre>KNeighborsClassifier(n_neighbors=3)</pre><b>In a Jupyter environment, please rerun this cell to show the HTML representation or trust the notebook. <br />On GitHub, the HTML representation is unable to render, please try loading this page with nbviewer.org.</b></div><div class=\"sk-container\" hidden><div class=\"sk-item\"><div class=\"sk-estimator sk-toggleable\"><input class=\"sk-toggleable__control sk-hidden--visually\" id=\"sk-estimator-id-1\" type=\"checkbox\" checked><label for=\"sk-estimator-id-1\" class=\"sk-toggleable__label sk-toggleable__label-arrow\">KNeighborsClassifier</label><div class=\"sk-toggleable__content\"><pre>KNeighborsClassifier(n_neighbors=3)</pre></div></div></div></div></div>"
      ],
      "text/plain": [
       "KNeighborsClassifier(n_neighbors=3)"
      ]
     },
     "execution_count": 31,
     "metadata": {},
     "output_type": "execute_result"
    }
   ],
   "source": [
    "#5\n",
    "from sklearn.neighbors import KNeighborsClassifier\n",
    "from sklearn.model_selection import train_test_split\n",
    "\n",
    "\n",
    "\n",
    "X = data[:, :-1]# Split data into features and labels\n",
    "y = data[:, -1]\n",
    "\n",
    "\\\n",
    "X_train, X_test, y_train, y_test = train_test_split(X, y, test_size=0.3, random_state=42)# Split data into training and testing sets\n",
    "\n",
    "neigh = KNeighborsClassifier(n_neighbors=3)# Create kNN classifier with k=3\n",
    "neigh.fit(X_train, y_train)"
   ]
  },
  {
   "cell_type": "code",
   "execution_count": 32,
   "id": "0034c0fe",
   "metadata": {},
   "outputs": [
    {
     "name": "stdout",
     "output_type": "stream",
     "text": [
      "Accuracy: 0.6556556556556556\n"
     ]
    }
   ],
   "source": [
    "#6\n",
    "# Split data into features and labels\n",
    "X = data[:, :-1]\n",
    "y = data[:, -1]\n",
    "\n",
    "# Split data into training and testing sets\n",
    "X_train, X_test, y_train, y_test = train_test_split(X, y, test_size=0.3, random_state=42)\n",
    "\n",
    "# Create kNN classifier with k=3\n",
    "neigh = KNeighborsClassifier(n_neighbors=3)\n",
    "\n",
    "# Train the classifier on the training set\n",
    "neigh.fit(X_train, y_train)\n",
    "\n",
    "# Test the accuracy of the classifier on the test set\n",
    "accuracy = neigh.score(X_test, y_test)\n",
    "\n",
    "print(\"Accuracy:\", accuracy)"
   ]
  },
  {
   "cell_type": "code",
   "execution_count": 33,
   "id": "725bf8e8",
   "metadata": {},
   "outputs": [
    {
     "name": "stdout",
     "output_type": "stream",
     "text": [
      "Predicted class labels: [3362. 3334. 3372. ... 3352. 3356. 3337.]\n"
     ]
    }
   ],
   "source": [
    "#7\n",
    "# Split data into training and testing sets\n",
    "X_train, X_test, y_train, y_test = train_test_split(X, y, test_size=0.3, random_state=42)\n",
    "\n",
    "# Create kNN classifier with k=3\n",
    "neigh = KNeighborsClassifier(n_neighbors=3)\n",
    "\n",
    "# Train the classifier on the training set\n",
    "neigh.fit(X_train, y_train)\n",
    "\n",
    "# Use the classifier to predict the class labels for the test set\n",
    "y_pred = neigh.predict(X_test)\n",
    "\n",
    "print(\"Predicted class labels:\", y_pred)"
   ]
  },
  {
   "cell_type": "code",
   "execution_count": 34,
   "id": "5b6f518b",
   "metadata": {},
   "outputs": [
    {
     "name": "stdout",
     "output_type": "stream",
     "text": [
      "Accuracy: 0.6786786786786787\n"
     ]
    }
   ],
   "source": [
    "#8\n",
    "# Split data into training and testing sets\n",
    "X_train, X_test, y_train, y_test = train_test_split(X, y, test_size=0.2, random_state=42)\n",
    "\n",
    "# Create kNN classifier with k=5\n",
    "neigh = KNeighborsClassifier(n_neighbors=5)\n",
    "\n",
    "# Train the classifier on the training set\n",
    "neigh.fit(X_train, y_train)\n",
    "\n",
    "# Test the accuracy of the classifier on the test set\n",
    "accuracy = neigh.score(X_test, y_test)\n",
    "\n",
    "print(\"Accuracy:\", accuracy)"
   ]
  },
  {
   "cell_type": "code",
   "execution_count": 39,
   "id": "5fc43023",
   "metadata": {},
   "outputs": [
    {
     "name": "stdout",
     "output_type": "stream",
     "text": [
      "Features shape: (6657, 64)\n",
      "Labels shape: (6657,)\n"
     ]
    }
   ],
   "source": [
    "# Separate the features and class labels\n",
    "X = data[:, :-1]\n",
    "y = data[:, -1]\n",
    "\n",
    "# Print the shape of the arrays\n",
    "print('Features shape:', X.shape)\n",
    "print('Labels shape:', y.shape)\n",
    "\n"
   ]
  },
  {
   "cell_type": "code",
   "execution_count": 43,
   "id": "1d6b4e9a",
   "metadata": {},
   "outputs": [
    {
     "ename": "NameError",
     "evalue": "name 'SomeClassifier' is not defined",
     "output_type": "error",
     "traceback": [
      "\u001b[1;31m---------------------------------------------------------------------------\u001b[0m",
      "\u001b[1;31mNameError\u001b[0m                                 Traceback (most recent call last)",
      "Cell \u001b[1;32mIn[43], line 7\u001b[0m\n\u001b[0;32m      4\u001b[0m X_train, X_test, y_train, y_test \u001b[38;5;241m=\u001b[39m train_test_split(X, y, test_size\u001b[38;5;241m=\u001b[39m\u001b[38;5;241m0.2\u001b[39m, random_state\u001b[38;5;241m=\u001b[39m\u001b[38;5;241m42\u001b[39m)\n\u001b[0;32m      6\u001b[0m \u001b[38;5;66;03m# Train a classifier on the training data\u001b[39;00m\n\u001b[1;32m----> 7\u001b[0m clf \u001b[38;5;241m=\u001b[39m SomeClassifier()\n\u001b[0;32m      8\u001b[0m clf\u001b[38;5;241m.\u001b[39mfit(X_train, y_train)\n\u001b[0;32m     10\u001b[0m \u001b[38;5;66;03m# Predict the class labels for the test data\u001b[39;00m\n",
      "\u001b[1;31mNameError\u001b[0m: name 'SomeClassifier' is not defined"
     ]
    }
   ],
   "source": [
    "from sklearn.metrics import confusion_matrix\n",
    "\n",
    "# Split the data into training and test sets\n",
    "X_train, X_test, y_train, y_test = train_test_split(X, y, test_size=0.2, random_state=42)\n",
    "\n",
    "# Train a classifier on the training data\n",
    "clf = SomeClassifier()\n",
    "clf.fit(X_train, y_train)\n",
    "\n",
    "# Predict the class labels for the test data\n",
    "y_pred = clf.predict(X_test)\n",
    "\n",
    "# Calculate the confusion matrix\n",
    "cm = confusion_matrix(y_test, y_pred)\n",
    "\n",
    "# Print the confusion matrix\n",
    "print(cm)"
   ]
  },
  {
   "cell_type": "code",
   "execution_count": 41,
   "id": "dea6a537",
   "metadata": {},
   "outputs": [
    {
     "name": "stdout",
     "output_type": "stream",
     "text": [
      "              precision    recall  f1-score   support\n",
      "\n",
      "      3333.0       0.52      0.81      0.63        36\n",
      "      3334.0       0.61      0.82      0.70        33\n",
      "      3335.0       0.52      0.56      0.54        39\n",
      "      3337.0       0.68      0.68      0.68        34\n",
      "      3342.0       0.29      0.50      0.36        28\n",
      "      3343.0       0.48      0.46      0.47        26\n",
      "      3346.0       0.59      0.62      0.60        21\n",
      "      3349.0       0.63      0.70      0.67        47\n",
      "      3350.0       0.24      0.25      0.24        20\n",
      "      3351.0       0.84      0.88      0.86        43\n",
      "      3352.0       0.30      0.36      0.33        22\n",
      "      3353.0       0.86      0.83      0.84        29\n",
      "      3354.0       0.66      0.77      0.71        30\n",
      "      3355.0       0.39      0.35      0.37        20\n",
      "      3356.0       0.83      0.75      0.79        32\n",
      "      3357.0       0.71      0.56      0.63        27\n",
      "      3358.0       0.43      0.26      0.32        23\n",
      "      3359.0       1.00      0.92      0.96        49\n",
      "      3360.0       0.69      0.88      0.77        60\n",
      "      3361.0       1.00      0.90      0.95        63\n",
      "      3362.0       0.98      0.86      0.91        56\n",
      "      3363.0       0.69      0.57      0.63        47\n",
      "      3364.0       0.40      0.36      0.38        33\n",
      "      3365.0       0.70      0.67      0.68        21\n",
      "      3366.0       0.61      0.87      0.71        23\n",
      "      3367.0       0.67      0.48      0.56        21\n",
      "      3368.0       0.64      0.68      0.66        34\n",
      "      3370.0       0.88      0.54      0.67        26\n",
      "      3371.0       0.79      0.79      0.79        19\n",
      "      3372.0       0.44      0.95      0.60        19\n",
      "      3373.0       0.75      0.50      0.60        24\n",
      "      3374.0       0.56      0.42      0.48        24\n",
      "      3375.0       0.56      0.39      0.46        23\n",
      "      3376.0       0.65      0.60      0.63        25\n",
      "      3377.0       0.74      0.83      0.78        24\n",
      "      3378.0       0.88      0.47      0.61        30\n",
      "      3379.0       0.94      0.74      0.83        23\n",
      "      3380.0       1.00      0.82      0.90        17\n",
      "      3381.0       0.76      0.76      0.76        33\n",
      "      3382.0       0.64      0.69      0.67        13\n",
      "      3383.0       0.82      0.67      0.74        21\n",
      "      3384.0       0.67      0.58      0.62        24\n",
      "      3385.0       0.86      0.71      0.77        17\n",
      "      3450.0       1.00      1.00      1.00        10\n",
      "      3451.0       0.75      0.67      0.71         9\n",
      "      3452.0       0.62      0.62      0.62         8\n",
      "      3453.0       1.00      0.75      0.86        12\n",
      "      3454.0       0.91      0.71      0.80        14\n",
      "\n",
      "    accuracy                           0.68      1332\n",
      "   macro avg       0.69      0.66      0.66      1332\n",
      "weighted avg       0.70      0.68      0.68      1332\n",
      "\n"
     ]
    }
   ],
   "source": [
    "from sklearn.metrics import classification_report\n",
    "\n",
    "# Calculate precision, recall, and F1-score for each class\n",
    "report = classification_report(y_test, y_pred)\n",
    "\n",
    "# Print the classification report\n",
    "print(report)"
   ]
  },
  {
   "cell_type": "code",
   "execution_count": 42,
   "id": "14834007",
   "metadata": {},
   "outputs": [
    {
     "name": "stdout",
     "output_type": "stream",
     "text": [
      "Confusion Matrix:\n",
      "[[29  1  0 ...  0  0  0]\n",
      " [ 2 27  0 ...  0  0  0]\n",
      " [ 0  2 22 ...  0  0  0]\n",
      " ...\n",
      " [ 0  0  0 ...  5  0  0]\n",
      " [ 1  0  0 ...  0  9  0]\n",
      " [ 0  0  0 ...  1  0 10]]\n",
      "Classification Report:\n",
      "              precision    recall  f1-score   support\n",
      "\n",
      "      3333.0       0.52      0.81      0.63        36\n",
      "      3334.0       0.61      0.82      0.70        33\n",
      "      3335.0       0.52      0.56      0.54        39\n",
      "      3337.0       0.68      0.68      0.68        34\n",
      "      3342.0       0.29      0.50      0.36        28\n",
      "      3343.0       0.48      0.46      0.47        26\n",
      "      3346.0       0.59      0.62      0.60        21\n",
      "      3349.0       0.63      0.70      0.67        47\n",
      "      3350.0       0.24      0.25      0.24        20\n",
      "      3351.0       0.84      0.88      0.86        43\n",
      "      3352.0       0.30      0.36      0.33        22\n",
      "      3353.0       0.86      0.83      0.84        29\n",
      "      3354.0       0.66      0.77      0.71        30\n",
      "      3355.0       0.39      0.35      0.37        20\n",
      "      3356.0       0.83      0.75      0.79        32\n",
      "      3357.0       0.71      0.56      0.63        27\n",
      "      3358.0       0.43      0.26      0.32        23\n",
      "      3359.0       1.00      0.92      0.96        49\n",
      "      3360.0       0.69      0.88      0.77        60\n",
      "      3361.0       1.00      0.90      0.95        63\n",
      "      3362.0       0.98      0.86      0.91        56\n",
      "      3363.0       0.69      0.57      0.63        47\n",
      "      3364.0       0.40      0.36      0.38        33\n",
      "      3365.0       0.70      0.67      0.68        21\n",
      "      3366.0       0.61      0.87      0.71        23\n",
      "      3367.0       0.67      0.48      0.56        21\n",
      "      3368.0       0.64      0.68      0.66        34\n",
      "      3370.0       0.88      0.54      0.67        26\n",
      "      3371.0       0.79      0.79      0.79        19\n",
      "      3372.0       0.44      0.95      0.60        19\n",
      "      3373.0       0.75      0.50      0.60        24\n",
      "      3374.0       0.56      0.42      0.48        24\n",
      "      3375.0       0.56      0.39      0.46        23\n",
      "      3376.0       0.65      0.60      0.63        25\n",
      "      3377.0       0.74      0.83      0.78        24\n",
      "      3378.0       0.88      0.47      0.61        30\n",
      "      3379.0       0.94      0.74      0.83        23\n",
      "      3380.0       1.00      0.82      0.90        17\n",
      "      3381.0       0.76      0.76      0.76        33\n",
      "      3382.0       0.64      0.69      0.67        13\n",
      "      3383.0       0.82      0.67      0.74        21\n",
      "      3384.0       0.67      0.58      0.62        24\n",
      "      3385.0       0.86      0.71      0.77        17\n",
      "      3450.0       1.00      1.00      1.00        10\n",
      "      3451.0       0.75      0.67      0.71         9\n",
      "      3452.0       0.62      0.62      0.62         8\n",
      "      3453.0       1.00      0.75      0.86        12\n",
      "      3454.0       0.91      0.71      0.80        14\n",
      "\n",
      "    accuracy                           0.68      1332\n",
      "   macro avg       0.69      0.66      0.66      1332\n",
      "weighted avg       0.70      0.68      0.68      1332\n",
      "\n"
     ]
    }
   ],
   "source": [
    "from sklearn.metrics import confusion_matrix\n",
    "'A9'\n",
    "# Split data into training and testing sets\n",
    "X_train, X_test, y_train, y_test = train_test_split(X, y, test_size=0.2, random_state=42)\n",
    "\n",
    "# Create kNN classifier with k=5\n",
    "neigh = KNeighborsClassifier(n_neighbors=5)\n",
    "\n",
    "# Train the classifier on the training set\n",
    "neigh.fit(X_train, y_train)\n",
    "\n",
    "# Predict the labels for the test set\n",
    "y_pred = neigh.predict(X_test)\n",
    "\n",
    "# Calculate the confusion matrix\n",
    "cm = confusion_matrix(y_test, y_pred)\n",
    "\n",
    "# Print the confusion matrix\n",
    "print(\"Confusion Matrix:\")\n",
    "print(cm)\n",
    "\n",
    "# Calculate the classification report\n",
    "cr = classification_report(y_test, y_pred)\n",
    "\n",
    "# Print the classification report\n",
    "print(\"Classification Report:\")\n",
    "print(cr)"
   ]
  },
  {
   "cell_type": "code",
   "execution_count": null,
   "id": "70bec0c3",
   "metadata": {},
   "outputs": [],
   "source": []
  }
 ],
 "metadata": {
  "kernelspec": {
   "display_name": "Python 3 (ipykernel)",
   "language": "python",
   "name": "python3"
  },
  "language_info": {
   "codemirror_mode": {
    "name": "ipython",
    "version": 3
   },
   "file_extension": ".py",
   "mimetype": "text/x-python",
   "name": "python",
   "nbconvert_exporter": "python",
   "pygments_lexer": "ipython3",
   "version": "3.11.4"
  }
 },
 "nbformat": 4,
 "nbformat_minor": 5
}
