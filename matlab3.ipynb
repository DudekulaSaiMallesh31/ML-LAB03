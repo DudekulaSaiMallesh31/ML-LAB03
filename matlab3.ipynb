{
 "cells": [
  {
   "cell_type": "code",
   "execution_count": 16,
   "id": "15fbf233",
   "metadata": {},
   "outputs": [
    {
     "data": {
      "text/html": [
       "<div>\n",
       "<style scoped>\n",
       "    .dataframe tbody tr th:only-of-type {\n",
       "        vertical-align: middle;\n",
       "    }\n",
       "\n",
       "    .dataframe tbody tr th {\n",
       "        vertical-align: top;\n",
       "    }\n",
       "\n",
       "    .dataframe thead th {\n",
       "        text-align: right;\n",
       "    }\n",
       "</style>\n",
       "<table border=\"1\" class=\"dataframe\">\n",
       "  <thead>\n",
       "    <tr style=\"text-align: right;\">\n",
       "      <th></th>\n",
       "      <th>0</th>\n",
       "      <th>1</th>\n",
       "      <th>2</th>\n",
       "      <th>3</th>\n",
       "      <th>4</th>\n",
       "      <th>5</th>\n",
       "      <th>6</th>\n",
       "      <th>7</th>\n",
       "      <th>8</th>\n",
       "      <th>9</th>\n",
       "      <th>...</th>\n",
       "      <th>55</th>\n",
       "      <th>56</th>\n",
       "      <th>57</th>\n",
       "      <th>58</th>\n",
       "      <th>59</th>\n",
       "      <th>60</th>\n",
       "      <th>61</th>\n",
       "      <th>62</th>\n",
       "      <th>63</th>\n",
       "      <th>class_name</th>\n",
       "    </tr>\n",
       "  </thead>\n",
       "  <tbody>\n",
       "    <tr>\n",
       "      <th>0</th>\n",
       "      <td>27.630783</td>\n",
       "      <td>0.000000</td>\n",
       "      <td>51.067493</td>\n",
       "      <td>0.0</td>\n",
       "      <td>26.302004</td>\n",
       "      <td>0.000000</td>\n",
       "      <td>0.000000</td>\n",
       "      <td>0.0</td>\n",
       "      <td>0.0</td>\n",
       "      <td>0.000000</td>\n",
       "      <td>...</td>\n",
       "      <td>35.563477</td>\n",
       "      <td>8.822042</td>\n",
       "      <td>0.0</td>\n",
       "      <td>18.269510</td>\n",
       "      <td>82.596970</td>\n",
       "      <td>0.000000</td>\n",
       "      <td>0.000000</td>\n",
       "      <td>1.751286</td>\n",
       "      <td>0.0</td>\n",
       "      <td>3333</td>\n",
       "    </tr>\n",
       "    <tr>\n",
       "      <th>1</th>\n",
       "      <td>41.934185</td>\n",
       "      <td>0.000000</td>\n",
       "      <td>57.616398</td>\n",
       "      <td>0.0</td>\n",
       "      <td>40.345722</td>\n",
       "      <td>0.000000</td>\n",
       "      <td>0.000000</td>\n",
       "      <td>0.0</td>\n",
       "      <td>0.0</td>\n",
       "      <td>0.000000</td>\n",
       "      <td>...</td>\n",
       "      <td>33.432617</td>\n",
       "      <td>22.573324</td>\n",
       "      <td>0.0</td>\n",
       "      <td>25.266916</td>\n",
       "      <td>71.188900</td>\n",
       "      <td>0.000000</td>\n",
       "      <td>0.000000</td>\n",
       "      <td>0.000000</td>\n",
       "      <td>0.0</td>\n",
       "      <td>3333</td>\n",
       "    </tr>\n",
       "    <tr>\n",
       "      <th>2</th>\n",
       "      <td>59.681458</td>\n",
       "      <td>0.000000</td>\n",
       "      <td>35.450397</td>\n",
       "      <td>0.0</td>\n",
       "      <td>51.084698</td>\n",
       "      <td>0.000000</td>\n",
       "      <td>0.000000</td>\n",
       "      <td>0.0</td>\n",
       "      <td>0.0</td>\n",
       "      <td>4.531399</td>\n",
       "      <td>...</td>\n",
       "      <td>17.747238</td>\n",
       "      <td>22.295591</td>\n",
       "      <td>0.0</td>\n",
       "      <td>9.600313</td>\n",
       "      <td>39.380276</td>\n",
       "      <td>0.000000</td>\n",
       "      <td>0.000000</td>\n",
       "      <td>13.358544</td>\n",
       "      <td>0.0</td>\n",
       "      <td>3333</td>\n",
       "    </tr>\n",
       "    <tr>\n",
       "      <th>3</th>\n",
       "      <td>25.652845</td>\n",
       "      <td>0.000000</td>\n",
       "      <td>42.711246</td>\n",
       "      <td>0.0</td>\n",
       "      <td>26.391441</td>\n",
       "      <td>0.000000</td>\n",
       "      <td>0.000000</td>\n",
       "      <td>0.0</td>\n",
       "      <td>0.0</td>\n",
       "      <td>0.000000</td>\n",
       "      <td>...</td>\n",
       "      <td>25.998358</td>\n",
       "      <td>12.029038</td>\n",
       "      <td>0.0</td>\n",
       "      <td>19.127953</td>\n",
       "      <td>60.226376</td>\n",
       "      <td>0.000000</td>\n",
       "      <td>0.000000</td>\n",
       "      <td>0.000000</td>\n",
       "      <td>0.0</td>\n",
       "      <td>3333</td>\n",
       "    </tr>\n",
       "    <tr>\n",
       "      <th>4</th>\n",
       "      <td>51.862490</td>\n",
       "      <td>0.000000</td>\n",
       "      <td>25.455917</td>\n",
       "      <td>0.0</td>\n",
       "      <td>48.505250</td>\n",
       "      <td>0.000000</td>\n",
       "      <td>0.000000</td>\n",
       "      <td>0.0</td>\n",
       "      <td>0.0</td>\n",
       "      <td>0.000000</td>\n",
       "      <td>...</td>\n",
       "      <td>27.024067</td>\n",
       "      <td>1.758605</td>\n",
       "      <td>0.0</td>\n",
       "      <td>17.696215</td>\n",
       "      <td>64.634834</td>\n",
       "      <td>0.000000</td>\n",
       "      <td>0.000000</td>\n",
       "      <td>9.861172</td>\n",
       "      <td>0.0</td>\n",
       "      <td>3333</td>\n",
       "    </tr>\n",
       "    <tr>\n",
       "      <th>...</th>\n",
       "      <td>...</td>\n",
       "      <td>...</td>\n",
       "      <td>...</td>\n",
       "      <td>...</td>\n",
       "      <td>...</td>\n",
       "      <td>...</td>\n",
       "      <td>...</td>\n",
       "      <td>...</td>\n",
       "      <td>...</td>\n",
       "      <td>...</td>\n",
       "      <td>...</td>\n",
       "      <td>...</td>\n",
       "      <td>...</td>\n",
       "      <td>...</td>\n",
       "      <td>...</td>\n",
       "      <td>...</td>\n",
       "      <td>...</td>\n",
       "      <td>...</td>\n",
       "      <td>...</td>\n",
       "      <td>...</td>\n",
       "      <td>...</td>\n",
       "    </tr>\n",
       "    <tr>\n",
       "      <th>6652</th>\n",
       "      <td>0.000000</td>\n",
       "      <td>8.917019</td>\n",
       "      <td>12.606703</td>\n",
       "      <td>0.0</td>\n",
       "      <td>0.000000</td>\n",
       "      <td>23.875010</td>\n",
       "      <td>0.000000</td>\n",
       "      <td>0.0</td>\n",
       "      <td>0.0</td>\n",
       "      <td>9.403310</td>\n",
       "      <td>...</td>\n",
       "      <td>0.000000</td>\n",
       "      <td>9.477231</td>\n",
       "      <td>0.0</td>\n",
       "      <td>0.000000</td>\n",
       "      <td>46.723995</td>\n",
       "      <td>0.000000</td>\n",
       "      <td>20.901190</td>\n",
       "      <td>7.003646</td>\n",
       "      <td>0.0</td>\n",
       "      <td>3454</td>\n",
       "    </tr>\n",
       "    <tr>\n",
       "      <th>6653</th>\n",
       "      <td>12.088920</td>\n",
       "      <td>3.646342</td>\n",
       "      <td>28.106102</td>\n",
       "      <td>0.0</td>\n",
       "      <td>0.000000</td>\n",
       "      <td>0.000000</td>\n",
       "      <td>0.000000</td>\n",
       "      <td>0.0</td>\n",
       "      <td>0.0</td>\n",
       "      <td>0.000000</td>\n",
       "      <td>...</td>\n",
       "      <td>0.000000</td>\n",
       "      <td>0.000000</td>\n",
       "      <td>0.0</td>\n",
       "      <td>0.000000</td>\n",
       "      <td>38.677414</td>\n",
       "      <td>0.000000</td>\n",
       "      <td>1.824834</td>\n",
       "      <td>7.562943</td>\n",
       "      <td>0.0</td>\n",
       "      <td>3454</td>\n",
       "    </tr>\n",
       "    <tr>\n",
       "      <th>6654</th>\n",
       "      <td>0.000000</td>\n",
       "      <td>0.000000</td>\n",
       "      <td>53.899130</td>\n",
       "      <td>0.0</td>\n",
       "      <td>0.000000</td>\n",
       "      <td>0.000000</td>\n",
       "      <td>12.079654</td>\n",
       "      <td>0.0</td>\n",
       "      <td>0.0</td>\n",
       "      <td>0.000000</td>\n",
       "      <td>...</td>\n",
       "      <td>12.388772</td>\n",
       "      <td>58.245360</td>\n",
       "      <td>0.0</td>\n",
       "      <td>0.000000</td>\n",
       "      <td>47.787598</td>\n",
       "      <td>5.880453</td>\n",
       "      <td>0.000000</td>\n",
       "      <td>3.556168</td>\n",
       "      <td>0.0</td>\n",
       "      <td>3454</td>\n",
       "    </tr>\n",
       "    <tr>\n",
       "      <th>6655</th>\n",
       "      <td>0.000000</td>\n",
       "      <td>0.000000</td>\n",
       "      <td>37.811558</td>\n",
       "      <td>0.0</td>\n",
       "      <td>0.000000</td>\n",
       "      <td>0.000000</td>\n",
       "      <td>8.555406</td>\n",
       "      <td>0.0</td>\n",
       "      <td>0.0</td>\n",
       "      <td>0.000000</td>\n",
       "      <td>...</td>\n",
       "      <td>7.663426</td>\n",
       "      <td>23.674717</td>\n",
       "      <td>0.0</td>\n",
       "      <td>0.000000</td>\n",
       "      <td>53.260387</td>\n",
       "      <td>3.350826</td>\n",
       "      <td>0.000000</td>\n",
       "      <td>8.673196</td>\n",
       "      <td>0.0</td>\n",
       "      <td>3454</td>\n",
       "    </tr>\n",
       "    <tr>\n",
       "      <th>6656</th>\n",
       "      <td>0.000000</td>\n",
       "      <td>0.000000</td>\n",
       "      <td>29.105694</td>\n",
       "      <td>0.0</td>\n",
       "      <td>0.000000</td>\n",
       "      <td>8.669491</td>\n",
       "      <td>20.568624</td>\n",
       "      <td>0.0</td>\n",
       "      <td>0.0</td>\n",
       "      <td>0.000000</td>\n",
       "      <td>...</td>\n",
       "      <td>11.354428</td>\n",
       "      <td>39.144600</td>\n",
       "      <td>0.0</td>\n",
       "      <td>0.000000</td>\n",
       "      <td>62.376480</td>\n",
       "      <td>13.449656</td>\n",
       "      <td>0.000000</td>\n",
       "      <td>10.945368</td>\n",
       "      <td>0.0</td>\n",
       "      <td>3454</td>\n",
       "    </tr>\n",
       "  </tbody>\n",
       "</table>\n",
       "<p>6657 rows × 65 columns</p>\n",
       "</div>"
      ],
      "text/plain": [
       "              0         1          2    3          4          5          6  \\\n",
       "0     27.630783  0.000000  51.067493  0.0  26.302004   0.000000   0.000000   \n",
       "1     41.934185  0.000000  57.616398  0.0  40.345722   0.000000   0.000000   \n",
       "2     59.681458  0.000000  35.450397  0.0  51.084698   0.000000   0.000000   \n",
       "3     25.652845  0.000000  42.711246  0.0  26.391441   0.000000   0.000000   \n",
       "4     51.862490  0.000000  25.455917  0.0  48.505250   0.000000   0.000000   \n",
       "...         ...       ...        ...  ...        ...        ...        ...   \n",
       "6652   0.000000  8.917019  12.606703  0.0   0.000000  23.875010   0.000000   \n",
       "6653  12.088920  3.646342  28.106102  0.0   0.000000   0.000000   0.000000   \n",
       "6654   0.000000  0.000000  53.899130  0.0   0.000000   0.000000  12.079654   \n",
       "6655   0.000000  0.000000  37.811558  0.0   0.000000   0.000000   8.555406   \n",
       "6656   0.000000  0.000000  29.105694  0.0   0.000000   8.669491  20.568624   \n",
       "\n",
       "        7    8         9  ...         55         56   57         58  \\\n",
       "0     0.0  0.0  0.000000  ...  35.563477   8.822042  0.0  18.269510   \n",
       "1     0.0  0.0  0.000000  ...  33.432617  22.573324  0.0  25.266916   \n",
       "2     0.0  0.0  4.531399  ...  17.747238  22.295591  0.0   9.600313   \n",
       "3     0.0  0.0  0.000000  ...  25.998358  12.029038  0.0  19.127953   \n",
       "4     0.0  0.0  0.000000  ...  27.024067   1.758605  0.0  17.696215   \n",
       "...   ...  ...       ...  ...        ...        ...  ...        ...   \n",
       "6652  0.0  0.0  9.403310  ...   0.000000   9.477231  0.0   0.000000   \n",
       "6653  0.0  0.0  0.000000  ...   0.000000   0.000000  0.0   0.000000   \n",
       "6654  0.0  0.0  0.000000  ...  12.388772  58.245360  0.0   0.000000   \n",
       "6655  0.0  0.0  0.000000  ...   7.663426  23.674717  0.0   0.000000   \n",
       "6656  0.0  0.0  0.000000  ...  11.354428  39.144600  0.0   0.000000   \n",
       "\n",
       "             59         60         61         62   63  class_name  \n",
       "0     82.596970   0.000000   0.000000   1.751286  0.0        3333  \n",
       "1     71.188900   0.000000   0.000000   0.000000  0.0        3333  \n",
       "2     39.380276   0.000000   0.000000  13.358544  0.0        3333  \n",
       "3     60.226376   0.000000   0.000000   0.000000  0.0        3333  \n",
       "4     64.634834   0.000000   0.000000   9.861172  0.0        3333  \n",
       "...         ...        ...        ...        ...  ...         ...  \n",
       "6652  46.723995   0.000000  20.901190   7.003646  0.0        3454  \n",
       "6653  38.677414   0.000000   1.824834   7.562943  0.0        3454  \n",
       "6654  47.787598   5.880453   0.000000   3.556168  0.0        3454  \n",
       "6655  53.260387   3.350826   0.000000   8.673196  0.0        3454  \n",
       "6656  62.376480  13.449656   0.000000  10.945368  0.0        3454  \n",
       "\n",
       "[6657 rows x 65 columns]"
      ]
     },
     "execution_count": 16,
     "metadata": {},
     "output_type": "execute_result"
    }
   ],
   "source": [
    "import pandas as pd\n",
    "import numpy as np\n",
    "df=pd.read_csv(\"D:\\extracted_features_charrec_dense7.csv\")\n",
    "df\n"
   ]
  },
  {
   "cell_type": "code",
   "execution_count": 9,
   "id": "38332d12",
   "metadata": {},
   "outputs": [
    {
     "data": {
      "text/html": [
       "<div>\n",
       "<style scoped>\n",
       "    .dataframe tbody tr th:only-of-type {\n",
       "        vertical-align: middle;\n",
       "    }\n",
       "\n",
       "    .dataframe tbody tr th {\n",
       "        vertical-align: top;\n",
       "    }\n",
       "\n",
       "    .dataframe thead th {\n",
       "        text-align: right;\n",
       "    }\n",
       "</style>\n",
       "<table border=\"1\" class=\"dataframe\">\n",
       "  <thead>\n",
       "    <tr style=\"text-align: right;\">\n",
       "      <th></th>\n",
       "      <th>0</th>\n",
       "      <th>1</th>\n",
       "      <th>2</th>\n",
       "      <th>3</th>\n",
       "      <th>4</th>\n",
       "      <th>5</th>\n",
       "      <th>6</th>\n",
       "      <th>7</th>\n",
       "      <th>8</th>\n",
       "      <th>9</th>\n",
       "      <th>...</th>\n",
       "      <th>55</th>\n",
       "      <th>56</th>\n",
       "      <th>57</th>\n",
       "      <th>58</th>\n",
       "      <th>59</th>\n",
       "      <th>60</th>\n",
       "      <th>61</th>\n",
       "      <th>62</th>\n",
       "      <th>63</th>\n",
       "      <th>class_name</th>\n",
       "    </tr>\n",
       "  </thead>\n",
       "  <tbody>\n",
       "    <tr>\n",
       "      <th>count</th>\n",
       "      <td>6657.000000</td>\n",
       "      <td>6657.000000</td>\n",
       "      <td>6657.000000</td>\n",
       "      <td>6657.000000</td>\n",
       "      <td>6657.000000</td>\n",
       "      <td>6657.000000</td>\n",
       "      <td>6657.000000</td>\n",
       "      <td>6657.000000</td>\n",
       "      <td>6657.0</td>\n",
       "      <td>6657.000000</td>\n",
       "      <td>...</td>\n",
       "      <td>6657.000000</td>\n",
       "      <td>6657.000000</td>\n",
       "      <td>6657.000000</td>\n",
       "      <td>6657.000000</td>\n",
       "      <td>6657.000000</td>\n",
       "      <td>6657.000000</td>\n",
       "      <td>6657.000000</td>\n",
       "      <td>6657.000000</td>\n",
       "      <td>6657.0</td>\n",
       "      <td>6657.000000</td>\n",
       "    </tr>\n",
       "    <tr>\n",
       "      <th>mean</th>\n",
       "      <td>21.167244</td>\n",
       "      <td>7.914853</td>\n",
       "      <td>26.955550</td>\n",
       "      <td>0.001694</td>\n",
       "      <td>22.496025</td>\n",
       "      <td>3.155892</td>\n",
       "      <td>0.566073</td>\n",
       "      <td>0.000942</td>\n",
       "      <td>0.0</td>\n",
       "      <td>25.541555</td>\n",
       "      <td>...</td>\n",
       "      <td>4.556751</td>\n",
       "      <td>18.894252</td>\n",
       "      <td>0.001973</td>\n",
       "      <td>10.986298</td>\n",
       "      <td>25.483393</td>\n",
       "      <td>0.853183</td>\n",
       "      <td>21.327060</td>\n",
       "      <td>17.278656</td>\n",
       "      <td>0.0</td>\n",
       "      <td>3365.858194</td>\n",
       "    </tr>\n",
       "    <tr>\n",
       "      <th>std</th>\n",
       "      <td>21.048915</td>\n",
       "      <td>11.119147</td>\n",
       "      <td>34.284395</td>\n",
       "      <td>0.044561</td>\n",
       "      <td>24.870716</td>\n",
       "      <td>9.028120</td>\n",
       "      <td>3.395978</td>\n",
       "      <td>0.040107</td>\n",
       "      <td>0.0</td>\n",
       "      <td>35.277036</td>\n",
       "      <td>...</td>\n",
       "      <td>11.053910</td>\n",
       "      <td>26.166480</td>\n",
       "      <td>0.075321</td>\n",
       "      <td>13.966302</td>\n",
       "      <td>28.379510</td>\n",
       "      <td>3.459574</td>\n",
       "      <td>29.444840</td>\n",
       "      <td>20.342259</td>\n",
       "      <td>0.0</td>\n",
       "      <td>24.817513</td>\n",
       "    </tr>\n",
       "    <tr>\n",
       "      <th>min</th>\n",
       "      <td>0.000000</td>\n",
       "      <td>0.000000</td>\n",
       "      <td>0.000000</td>\n",
       "      <td>0.000000</td>\n",
       "      <td>0.000000</td>\n",
       "      <td>0.000000</td>\n",
       "      <td>0.000000</td>\n",
       "      <td>0.000000</td>\n",
       "      <td>0.0</td>\n",
       "      <td>0.000000</td>\n",
       "      <td>...</td>\n",
       "      <td>0.000000</td>\n",
       "      <td>0.000000</td>\n",
       "      <td>0.000000</td>\n",
       "      <td>0.000000</td>\n",
       "      <td>0.000000</td>\n",
       "      <td>0.000000</td>\n",
       "      <td>0.000000</td>\n",
       "      <td>0.000000</td>\n",
       "      <td>0.0</td>\n",
       "      <td>3333.000000</td>\n",
       "    </tr>\n",
       "    <tr>\n",
       "      <th>25%</th>\n",
       "      <td>0.000000</td>\n",
       "      <td>0.000000</td>\n",
       "      <td>0.000000</td>\n",
       "      <td>0.000000</td>\n",
       "      <td>0.000000</td>\n",
       "      <td>0.000000</td>\n",
       "      <td>0.000000</td>\n",
       "      <td>0.000000</td>\n",
       "      <td>0.0</td>\n",
       "      <td>0.000000</td>\n",
       "      <td>...</td>\n",
       "      <td>0.000000</td>\n",
       "      <td>0.000000</td>\n",
       "      <td>0.000000</td>\n",
       "      <td>0.000000</td>\n",
       "      <td>0.000000</td>\n",
       "      <td>0.000000</td>\n",
       "      <td>0.000000</td>\n",
       "      <td>0.000000</td>\n",
       "      <td>0.0</td>\n",
       "      <td>3353.000000</td>\n",
       "    </tr>\n",
       "    <tr>\n",
       "      <th>50%</th>\n",
       "      <td>16.735703</td>\n",
       "      <td>2.248540</td>\n",
       "      <td>16.052292</td>\n",
       "      <td>0.000000</td>\n",
       "      <td>15.782615</td>\n",
       "      <td>0.000000</td>\n",
       "      <td>0.000000</td>\n",
       "      <td>0.000000</td>\n",
       "      <td>0.0</td>\n",
       "      <td>10.701322</td>\n",
       "      <td>...</td>\n",
       "      <td>0.000000</td>\n",
       "      <td>8.076521</td>\n",
       "      <td>0.000000</td>\n",
       "      <td>5.125904</td>\n",
       "      <td>17.266066</td>\n",
       "      <td>0.000000</td>\n",
       "      <td>9.578491</td>\n",
       "      <td>9.162153</td>\n",
       "      <td>0.0</td>\n",
       "      <td>3362.000000</td>\n",
       "    </tr>\n",
       "    <tr>\n",
       "      <th>75%</th>\n",
       "      <td>34.614826</td>\n",
       "      <td>11.951107</td>\n",
       "      <td>40.553830</td>\n",
       "      <td>0.000000</td>\n",
       "      <td>37.320180</td>\n",
       "      <td>0.000000</td>\n",
       "      <td>0.000000</td>\n",
       "      <td>0.000000</td>\n",
       "      <td>0.0</td>\n",
       "      <td>38.489910</td>\n",
       "      <td>...</td>\n",
       "      <td>0.821449</td>\n",
       "      <td>27.168510</td>\n",
       "      <td>0.000000</td>\n",
       "      <td>18.787160</td>\n",
       "      <td>43.938200</td>\n",
       "      <td>0.000000</td>\n",
       "      <td>30.630342</td>\n",
       "      <td>28.160164</td>\n",
       "      <td>0.0</td>\n",
       "      <td>3374.000000</td>\n",
       "    </tr>\n",
       "    <tr>\n",
       "      <th>max</th>\n",
       "      <td>113.655290</td>\n",
       "      <td>58.710968</td>\n",
       "      <td>194.724120</td>\n",
       "      <td>1.568933</td>\n",
       "      <td>149.866410</td>\n",
       "      <td>73.601400</td>\n",
       "      <td>34.719303</td>\n",
       "      <td>2.378994</td>\n",
       "      <td>0.0</td>\n",
       "      <td>192.633940</td>\n",
       "      <td>...</td>\n",
       "      <td>74.291320</td>\n",
       "      <td>168.736980</td>\n",
       "      <td>4.984689</td>\n",
       "      <td>79.050310</td>\n",
       "      <td>171.163060</td>\n",
       "      <td>34.583378</td>\n",
       "      <td>147.329130</td>\n",
       "      <td>92.224130</td>\n",
       "      <td>0.0</td>\n",
       "      <td>3454.000000</td>\n",
       "    </tr>\n",
       "  </tbody>\n",
       "</table>\n",
       "<p>8 rows × 65 columns</p>\n",
       "</div>"
      ],
      "text/plain": [
       "                 0            1            2            3            4  \\\n",
       "count  6657.000000  6657.000000  6657.000000  6657.000000  6657.000000   \n",
       "mean     21.167244     7.914853    26.955550     0.001694    22.496025   \n",
       "std      21.048915    11.119147    34.284395     0.044561    24.870716   \n",
       "min       0.000000     0.000000     0.000000     0.000000     0.000000   \n",
       "25%       0.000000     0.000000     0.000000     0.000000     0.000000   \n",
       "50%      16.735703     2.248540    16.052292     0.000000    15.782615   \n",
       "75%      34.614826    11.951107    40.553830     0.000000    37.320180   \n",
       "max     113.655290    58.710968   194.724120     1.568933   149.866410   \n",
       "\n",
       "                 5            6            7       8            9  ...  \\\n",
       "count  6657.000000  6657.000000  6657.000000  6657.0  6657.000000  ...   \n",
       "mean      3.155892     0.566073     0.000942     0.0    25.541555  ...   \n",
       "std       9.028120     3.395978     0.040107     0.0    35.277036  ...   \n",
       "min       0.000000     0.000000     0.000000     0.0     0.000000  ...   \n",
       "25%       0.000000     0.000000     0.000000     0.0     0.000000  ...   \n",
       "50%       0.000000     0.000000     0.000000     0.0    10.701322  ...   \n",
       "75%       0.000000     0.000000     0.000000     0.0    38.489910  ...   \n",
       "max      73.601400    34.719303     2.378994     0.0   192.633940  ...   \n",
       "\n",
       "                55           56           57           58           59  \\\n",
       "count  6657.000000  6657.000000  6657.000000  6657.000000  6657.000000   \n",
       "mean      4.556751    18.894252     0.001973    10.986298    25.483393   \n",
       "std      11.053910    26.166480     0.075321    13.966302    28.379510   \n",
       "min       0.000000     0.000000     0.000000     0.000000     0.000000   \n",
       "25%       0.000000     0.000000     0.000000     0.000000     0.000000   \n",
       "50%       0.000000     8.076521     0.000000     5.125904    17.266066   \n",
       "75%       0.821449    27.168510     0.000000    18.787160    43.938200   \n",
       "max      74.291320   168.736980     4.984689    79.050310   171.163060   \n",
       "\n",
       "                60           61           62      63   class_name  \n",
       "count  6657.000000  6657.000000  6657.000000  6657.0  6657.000000  \n",
       "mean      0.853183    21.327060    17.278656     0.0  3365.858194  \n",
       "std       3.459574    29.444840    20.342259     0.0    24.817513  \n",
       "min       0.000000     0.000000     0.000000     0.0  3333.000000  \n",
       "25%       0.000000     0.000000     0.000000     0.0  3353.000000  \n",
       "50%       0.000000     9.578491     9.162153     0.0  3362.000000  \n",
       "75%       0.000000    30.630342    28.160164     0.0  3374.000000  \n",
       "max      34.583378   147.329130    92.224130     0.0  3454.000000  \n",
       "\n",
       "[8 rows x 65 columns]"
      ]
     },
     "execution_count": 9,
     "metadata": {},
     "output_type": "execute_result"
    }
   ],
   "source": [
    "df.describe()"
   ]
  },
  {
   "cell_type": "code",
   "execution_count": 22,
   "id": "78a512ef",
   "metadata": {},
   "outputs": [
    {
     "data": {
      "text/plain": [
       "0               21.167244\n",
       "1                7.914853\n",
       "2               26.955550\n",
       "3                0.001694\n",
       "4               22.496025\n",
       "                 ...     \n",
       "60               0.853183\n",
       "61              21.327060\n",
       "62              17.278656\n",
       "63               0.000000\n",
       "class_name    3365.858194\n",
       "Length: 65, dtype: float64"
      ]
     },
     "execution_count": 22,
     "metadata": {},
     "output_type": "execute_result"
    }
   ],
   "source": [
    "means=df.mean()\n",
    "\n",
    "means"
   ]
  },
  {
   "cell_type": "code",
   "execution_count": 11,
   "id": "499f3889",
   "metadata": {},
   "outputs": [
    {
     "data": {
      "text/plain": [
       "0             21.048915\n",
       "1             11.119147\n",
       "2             34.284395\n",
       "3              0.044561\n",
       "4             24.870716\n",
       "                ...    \n",
       "60             3.459574\n",
       "61            29.444840\n",
       "62            20.342259\n",
       "63             0.000000\n",
       "class_name    24.817513\n",
       "Length: 65, dtype: float64"
      ]
     },
     "execution_count": 11,
     "metadata": {},
     "output_type": "execute_result"
    }
   ],
   "source": [
    "df.std()"
   ]
  },
  {
   "cell_type": "code",
   "execution_count": 30,
   "id": "c9d0b3e2",
   "metadata": {},
   "outputs": [
    {
     "name": "stdout",
     "output_type": "stream",
     "text": [
      " 19.04\n"
     ]
    }
   ],
   "source": [
    "cen1=means.loc['1']\n",
    "cen2=means.loc['2']\n",
    "\n",
    "dis = np.linalg.norm(cen1 - cen2)\n",
    "\n",
    "print(f\" {dis:.2f}\")\n"
   ]
  },
  {
   "cell_type": "code",
   "execution_count": 38,
   "id": "8878570e",
   "metadata": {},
   "outputs": [
    {
     "data": {
      "text/plain": [
       "3333.0194805194806"
      ]
     },
     "execution_count": 38,
     "metadata": {},
     "output_type": "execute_result"
    }
   ],
   "source": [
    "\n",
    "s = df.class_name.iloc[0:152].mean()\n",
    "s\n"
   ]
  },
  {
   "cell_type": "code",
   "execution_count": 40,
   "id": "0ffc82e5",
   "metadata": {},
   "outputs": [
    {
     "data": {
      "text/plain": [
       "3334.0074074074073"
      ]
     },
     "execution_count": 40,
     "metadata": {},
     "output_type": "execute_result"
    }
   ],
   "source": [
    "s1 = df.class_name.iloc[153:288].mean()\n",
    "s1"
   ]
  },
  {
   "cell_type": "code",
   "execution_count": 41,
   "id": "7083c829",
   "metadata": {},
   "outputs": [
    {
     "name": "stdout",
     "output_type": "stream",
     "text": [
      " 0.99\n"
     ]
    }
   ],
   "source": [
    "dis = np.linalg.norm(s1 - s)\n",
    "\n",
    "print(f\" {dis:.2f}\")"
   ]
  },
  {
   "cell_type": "code",
   "execution_count": 42,
   "id": "cc27d21c",
   "metadata": {},
   "outputs": [
    {
     "data": {
      "text/plain": [
       "3335.0132450331125"
      ]
     },
     "execution_count": 42,
     "metadata": {},
     "output_type": "execute_result"
    }
   ],
   "source": [
    "s3 = df.class_name.iloc[289:440].mean()\n",
    "s3"
   ]
  },
  {
   "cell_type": "code",
   "execution_count": 43,
   "id": "d943a9a0",
   "metadata": {},
   "outputs": [
    {
     "data": {
      "text/plain": [
       "3337.0333333333333"
      ]
     },
     "execution_count": 43,
     "metadata": {},
     "output_type": "execute_result"
    }
   ],
   "source": [
    "s4 = df.class_name.iloc[441:591].mean()\n",
    "s4"
   ]
  },
  {
   "cell_type": "code",
   "execution_count": 44,
   "id": "e1e3a22a",
   "metadata": {},
   "outputs": [
    {
     "data": {
      "text/plain": [
       "3342.00641025641"
      ]
     },
     "execution_count": 44,
     "metadata": {},
     "output_type": "execute_result"
    }
   ],
   "source": [
    "s5 = df.class_name.iloc[592:748].mean()\n",
    "s5"
   ]
  },
  {
   "cell_type": "code",
   "execution_count": 45,
   "id": "53cfefdb",
   "metadata": {},
   "outputs": [
    {
     "data": {
      "text/plain": [
       "3343.020979020979"
      ]
     },
     "execution_count": 45,
     "metadata": {},
     "output_type": "execute_result"
    }
   ],
   "source": [
    "s6 = df.class_name.iloc[749:892].mean()\n",
    "s6"
   ]
  },
  {
   "cell_type": "code",
   "execution_count": 55,
   "id": "c62ab3e4",
   "metadata": {},
   "outputs": [
    {
     "data": {
      "text/plain": [
       "3350.0078740157483"
      ]
     },
     "execution_count": 55,
     "metadata": {},
     "output_type": "execute_result"
    }
   ],
   "source": [
    "s7 = df.class_name.iloc[1234:1361].mean()\n",
    "s7\n",
    "\n"
   ]
  },
  {
   "cell_type": "code",
   "execution_count": 56,
   "id": "8183ea77",
   "metadata": {},
   "outputs": [
    {
     "data": {
      "text/plain": [
       "3351.0066225165565"
      ]
     },
     "execution_count": 56,
     "metadata": {},
     "output_type": "execute_result"
    }
   ],
   "source": [
    "s8 = df.class_name.iloc[1362:1513].mean()\n",
    "s8\n"
   ]
  },
  {
   "cell_type": "code",
   "execution_count": 58,
   "id": "304ad20d",
   "metadata": {},
   "outputs": [
    {
     "data": {
      "text/plain": [
       "3352.0095238095237"
      ]
     },
     "execution_count": 58,
     "metadata": {},
     "output_type": "execute_result"
    }
   ],
   "source": [
    "s9 = df.class_name.iloc[1514:1619].mean()\n",
    "s9"
   ]
  },
  {
   "cell_type": "code",
   "execution_count": 59,
   "id": "9f76a679",
   "metadata": {},
   "outputs": [
    {
     "data": {
      "text/plain": [
       "3353.0067567567567"
      ]
     },
     "execution_count": 59,
     "metadata": {},
     "output_type": "execute_result"
    }
   ],
   "source": [
    "s10 = df.class_name.iloc[1620:1768].mean()\n",
    "s10"
   ]
  },
  {
   "cell_type": "code",
   "execution_count": 60,
   "id": "6bf2a515",
   "metadata": {},
   "outputs": [
    {
     "data": {
      "text/plain": [
       "3354.0058479532163"
      ]
     },
     "execution_count": 60,
     "metadata": {},
     "output_type": "execute_result"
    }
   ],
   "source": [
    "s11 = df.class_name.iloc[1768:1939].mean()\n",
    "s11"
   ]
  },
  {
   "cell_type": "code",
   "execution_count": 61,
   "id": "3c500c15",
   "metadata": {},
   "outputs": [
    {
     "data": {
      "text/plain": [
       "3355.008"
      ]
     },
     "execution_count": 61,
     "metadata": {},
     "output_type": "execute_result"
    }
   ],
   "source": [
    "s12 = df.class_name.iloc[1940:2065].mean()\n",
    "s12"
   ]
  },
  {
   "cell_type": "code",
   "execution_count": 62,
   "id": "8cfb2d7a",
   "metadata": {},
   "outputs": [
    {
     "data": {
      "text/plain": [
       "3356.0063694267515"
      ]
     },
     "execution_count": 62,
     "metadata": {},
     "output_type": "execute_result"
    }
   ],
   "source": [
    "s13 = df.class_name.iloc[2066:2223].mean()\n",
    "s13"
   ]
  },
  {
   "cell_type": "code",
   "execution_count": 63,
   "id": "bae3ebe5",
   "metadata": {},
   "outputs": [
    {
     "data": {
      "text/plain": [
       "3357.008547008547"
      ]
     },
     "execution_count": 63,
     "metadata": {},
     "output_type": "execute_result"
    }
   ],
   "source": [
    "s14 = df.class_name.iloc[2224:2341].mean()\n",
    "s14"
   ]
  },
  {
   "cell_type": "code",
   "execution_count": 64,
   "id": "059fd799",
   "metadata": {},
   "outputs": [
    {
     "data": {
      "text/plain": [
       "3358.008849557522"
      ]
     },
     "execution_count": 64,
     "metadata": {},
     "output_type": "execute_result"
    }
   ],
   "source": [
    "s15 = df.class_name.iloc[2342:2455].mean()\n",
    "s15"
   ]
  },
  {
   "cell_type": "code",
   "execution_count": 65,
   "id": "b916f42e",
   "metadata": {},
   "outputs": [
    {
     "data": {
      "text/plain": [
       "3359.0038022813687"
      ]
     },
     "execution_count": 65,
     "metadata": {},
     "output_type": "execute_result"
    }
   ],
   "source": [
    "s16 = df.class_name.iloc[2456:2719].mean()\n",
    "s16"
   ]
  },
  {
   "cell_type": "code",
   "execution_count": 66,
   "id": "de6fb062",
   "metadata": {},
   "outputs": [
    {
     "data": {
      "text/plain": [
       "3359.977049180328"
      ]
     },
     "execution_count": 66,
     "metadata": {},
     "output_type": "execute_result"
    }
   ],
   "source": [
    "s17 = df.class_name.iloc[2710:3015].mean()\n",
    "s17"
   ]
  },
  {
   "cell_type": "code",
   "execution_count": 67,
   "id": "84f7e6a0",
   "metadata": {},
   "outputs": [
    {
     "data": {
      "text/plain": [
       "3361.0034843205576"
      ]
     },
     "execution_count": 67,
     "metadata": {},
     "output_type": "execute_result"
    }
   ],
   "source": [
    "s18 = df.class_name.iloc[3016:3303].mean()\n",
    "s18"
   ]
  },
  {
   "cell_type": "code",
   "execution_count": 68,
   "id": "b728cbf6",
   "metadata": {},
   "outputs": [
    {
     "data": {
      "text/plain": [
       "3362.0034843205576"
      ]
     },
     "execution_count": 68,
     "metadata": {},
     "output_type": "execute_result"
    }
   ],
   "source": [
    "s18 = df.class_name.iloc[3304:3591].mean()\n",
    "s18"
   ]
  },
  {
   "cell_type": "code",
   "execution_count": 69,
   "id": "54939af8",
   "metadata": {},
   "outputs": [
    {
     "data": {
      "text/plain": [
       "3363.004255319149"
      ]
     },
     "execution_count": 69,
     "metadata": {},
     "output_type": "execute_result"
    }
   ],
   "source": [
    "s19 = df.class_name.iloc[3592:3827].mean()\n",
    "s19"
   ]
  },
  {
   "cell_type": "code",
   "execution_count": 70,
   "id": "8a403585",
   "metadata": {},
   "outputs": [
    {
     "data": {
      "text/plain": [
       "3364.0064935064934"
      ]
     },
     "execution_count": 70,
     "metadata": {},
     "output_type": "execute_result"
    }
   ],
   "source": [
    "s20 = df.class_name.iloc[3827:3981].mean()\n",
    "s20"
   ]
  },
  {
   "cell_type": "code",
   "execution_count": 71,
   "id": "442b6b03",
   "metadata": {},
   "outputs": [
    {
     "data": {
      "text/plain": [
       "3365.009259259259"
      ]
     },
     "execution_count": 71,
     "metadata": {},
     "output_type": "execute_result"
    }
   ],
   "source": [
    "s20 = df.class_name.iloc[3982:4090].mean()\n",
    "s20"
   ]
  },
  {
   "cell_type": "code",
   "execution_count": 72,
   "id": "3f007752",
   "metadata": {},
   "outputs": [
    {
     "data": {
      "text/plain": [
       "3366.0080645161293"
      ]
     },
     "execution_count": 72,
     "metadata": {},
     "output_type": "execute_result"
    }
   ],
   "source": [
    "s21 = df.class_name.iloc[4091:4215].mean()\n",
    "s21"
   ]
  },
  {
   "cell_type": "code",
   "execution_count": 73,
   "id": "eac9e6bf",
   "metadata": {},
   "outputs": [
    {
     "data": {
      "text/plain": [
       "3367.0095238095237"
      ]
     },
     "execution_count": 73,
     "metadata": {},
     "output_type": "execute_result"
    }
   ],
   "source": [
    "s22 = df.class_name.iloc[4216:4321].mean()\n",
    "s22"
   ]
  },
  {
   "cell_type": "code",
   "execution_count": 74,
   "id": "362ba61b",
   "metadata": {},
   "outputs": [
    {
     "data": {
      "text/plain": [
       "3368.0138888888887"
      ]
     },
     "execution_count": 74,
     "metadata": {},
     "output_type": "execute_result"
    }
   ],
   "source": [
    "s23 = df.class_name.iloc[4322:4466].mean()\n",
    "s23"
   ]
  },
  {
   "cell_type": "code",
   "execution_count": 75,
   "id": "ae1337e7",
   "metadata": {},
   "outputs": [
    {
     "data": {
      "text/plain": [
       "3370.015625"
      ]
     },
     "execution_count": 75,
     "metadata": {},
     "output_type": "execute_result"
    }
   ],
   "source": [
    "s24 = df.class_name.iloc[4467:4595].mean()\n",
    "s24"
   ]
  },
  {
   "cell_type": "code",
   "execution_count": 76,
   "id": "5ea31de9",
   "metadata": {},
   "outputs": [
    {
     "data": {
      "text/plain": [
       "3371.010989010989"
      ]
     },
     "execution_count": 76,
     "metadata": {},
     "output_type": "execute_result"
    }
   ],
   "source": [
    "s25 = df.class_name.iloc[4596:4687].mean()\n",
    "s25"
   ]
  },
  {
   "cell_type": "code",
   "execution_count": 77,
   "id": "26251ac3",
   "metadata": {},
   "outputs": [
    {
     "data": {
      "text/plain": [
       "3372.010101010101"
      ]
     },
     "execution_count": 77,
     "metadata": {},
     "output_type": "execute_result"
    }
   ],
   "source": [
    "s26 = df.class_name.iloc[4688:4787].mean()\n",
    "s26"
   ]
  },
  {
   "cell_type": "code",
   "execution_count": 78,
   "id": "5c5b39ae",
   "metadata": {},
   "outputs": [
    {
     "data": {
      "text/plain": [
       "3373.008849557522"
      ]
     },
     "execution_count": 78,
     "metadata": {},
     "output_type": "execute_result"
    }
   ],
   "source": [
    "s27 = df.class_name.iloc[4788:4901].mean()\n",
    "s27"
   ]
  },
  {
   "cell_type": "code",
   "execution_count": 79,
   "id": "b0a10426",
   "metadata": {},
   "outputs": [
    {
     "data": {
      "text/plain": [
       "3374.008849557522"
      ]
     },
     "execution_count": 79,
     "metadata": {},
     "output_type": "execute_result"
    }
   ],
   "source": [
    "s28 = df.class_name.iloc[4902:5015].mean()\n",
    "s28"
   ]
  },
  {
   "cell_type": "code",
   "execution_count": 80,
   "id": "34ab5454",
   "metadata": {},
   "outputs": [
    {
     "data": {
      "text/plain": [
       "3375.0135135135133"
      ]
     },
     "execution_count": 80,
     "metadata": {},
     "output_type": "execute_result"
    }
   ],
   "source": [
    "s29 = df.class_name.iloc[5015:5163].mean()\n",
    "s29"
   ]
  },
  {
   "cell_type": "code",
   "execution_count": 81,
   "id": "f0a682de",
   "metadata": {},
   "outputs": [
    {
     "data": {
      "text/plain": [
       "3376.0068493150684"
      ]
     },
     "execution_count": 81,
     "metadata": {},
     "output_type": "execute_result"
    }
   ],
   "source": [
    "s30 = df.class_name.iloc[5164:5310].mean()\n",
    "s30"
   ]
  },
  {
   "cell_type": "code",
   "execution_count": 82,
   "id": "c39ad4af",
   "metadata": {},
   "outputs": [
    {
     "data": {
      "text/plain": [
       "3377.008547008547"
      ]
     },
     "execution_count": 82,
     "metadata": {},
     "output_type": "execute_result"
    }
   ],
   "source": [
    "s31 = df.class_name.iloc[5310:5427].mean()\n",
    "s31"
   ]
  },
  {
   "cell_type": "code",
   "execution_count": 84,
   "id": "f8c0ffb3",
   "metadata": {},
   "outputs": [
    {
     "data": {
      "text/plain": [
       "3378.007692307692"
      ]
     },
     "execution_count": 84,
     "metadata": {},
     "output_type": "execute_result"
    }
   ],
   "source": [
    "s32 = df.class_name.iloc[5428:5558].mean()\n",
    "s32"
   ]
  },
  {
   "cell_type": "code",
   "execution_count": 85,
   "id": "43d5a97a",
   "metadata": {},
   "outputs": [
    {
     "data": {
      "text/plain": [
       "3379.0"
      ]
     },
     "execution_count": 85,
     "metadata": {},
     "output_type": "execute_result"
    }
   ],
   "source": [
    "s33 = df.class_name.iloc[5559:5653].mean()\n",
    "s33"
   ]
  },
  {
   "cell_type": "code",
   "execution_count": 86,
   "id": "fe2c93a2",
   "metadata": {},
   "outputs": [
    {
     "data": {
      "text/plain": [
       "3380.0116279069766"
      ]
     },
     "execution_count": 86,
     "metadata": {},
     "output_type": "execute_result"
    }
   ],
   "source": [
    "s34 = df.class_name.iloc[5657:5743].mean()\n",
    "s34"
   ]
  },
  {
   "cell_type": "code",
   "execution_count": 87,
   "id": "ea04d0f1",
   "metadata": {},
   "outputs": [
    {
     "data": {
      "text/plain": [
       "3381.0068027210887"
      ]
     },
     "execution_count": 87,
     "metadata": {},
     "output_type": "execute_result"
    }
   ],
   "source": [
    "s35 = df.class_name.iloc[5744:5891].mean()\n",
    "s35"
   ]
  },
  {
   "cell_type": "code",
   "execution_count": 88,
   "id": "5b2c9054",
   "metadata": {},
   "outputs": [
    {
     "data": {
      "text/plain": [
       "3382.0108695652175"
      ]
     },
     "execution_count": 88,
     "metadata": {},
     "output_type": "execute_result"
    }
   ],
   "source": [
    "s36 = df.class_name.iloc[5892:5984].mean()\n",
    "s36"
   ]
  },
  {
   "cell_type": "code",
   "execution_count": 89,
   "id": "3f77c726",
   "metadata": {},
   "outputs": [
    {
     "data": {
      "text/plain": [
       "3383.0096153846152"
      ]
     },
     "execution_count": 89,
     "metadata": {},
     "output_type": "execute_result"
    }
   ],
   "source": [
    "s36 = df.class_name.iloc[5985:6089].mean()\n",
    "s36"
   ]
  },
  {
   "cell_type": "code",
   "execution_count": 90,
   "id": "3521efae",
   "metadata": {},
   "outputs": [
    {
     "data": {
      "text/plain": [
       "3384.009090909091"
      ]
     },
     "execution_count": 90,
     "metadata": {},
     "output_type": "execute_result"
    }
   ],
   "source": [
    "s36 = df.class_name.iloc[6090:6200].mean()\n",
    "s36"
   ]
  },
  {
   "cell_type": "code",
   "execution_count": 91,
   "id": "a8ff34a6",
   "metadata": {},
   "outputs": [
    {
     "data": {
      "text/plain": [
       "3385.7471264367814"
      ]
     },
     "execution_count": 91,
     "metadata": {},
     "output_type": "execute_result"
    }
   ],
   "source": [
    "s36 = df.class_name.iloc[6201:6288].mean()\n",
    "s36"
   ]
  },
  {
   "cell_type": "code",
   "execution_count": 92,
   "id": "a07728a8",
   "metadata": {},
   "outputs": [
    {
     "data": {
      "text/plain": [
       "3450.0158730158732"
      ]
     },
     "execution_count": 92,
     "metadata": {},
     "output_type": "execute_result"
    }
   ],
   "source": [
    "s37 = df.class_name.iloc[6289:6352].mean()\n",
    "s37"
   ]
  },
  {
   "cell_type": "code",
   "execution_count": 93,
   "id": "7de68e36",
   "metadata": {},
   "outputs": [
    {
     "data": {
      "text/plain": [
       "3451.0169491525426"
      ]
     },
     "execution_count": 93,
     "metadata": {},
     "output_type": "execute_result"
    }
   ],
   "source": [
    "s38 = df.class_name.iloc[6353:6412].mean()\n",
    "s38"
   ]
  },
  {
   "cell_type": "code",
   "execution_count": 94,
   "id": "08b49487",
   "metadata": {},
   "outputs": [
    {
     "data": {
      "text/plain": [
       "3452.012987012987"
      ]
     },
     "execution_count": 94,
     "metadata": {},
     "output_type": "execute_result"
    }
   ],
   "source": [
    "s39 = df.class_name.iloc[6413:6490].mean()\n",
    "s39"
   ]
  },
  {
   "cell_type": "code",
   "execution_count": 95,
   "id": "1fb48de8",
   "metadata": {},
   "outputs": [
    {
     "data": {
      "text/plain": [
       "3453.0114942528735"
      ]
     },
     "execution_count": 95,
     "metadata": {},
     "output_type": "execute_result"
    }
   ],
   "source": [
    "s40 = df.class_name.iloc[6491:6578].mean()\n",
    "s40"
   ]
  },
  {
   "cell_type": "code",
   "execution_count": 102,
   "id": "75295f58",
   "metadata": {},
   "outputs": [
    {
     "data": {
      "text/plain": [
       "3454.0"
      ]
     },
     "execution_count": 102,
     "metadata": {},
     "output_type": "execute_result"
    }
   ],
   "source": [
    "s41 = df.class_name.iloc[  6579:6658 ].mean()\n",
    "s41"
   ]
  },
  {
   "cell_type": "code",
   "execution_count": 113,
   "id": "d182dc48",
   "metadata": {},
   "outputs": [
    {
     "ename": "NameError",
     "evalue": "name 'dt' is not defined",
     "output_type": "error",
     "traceback": [
      "\u001b[1;31m---------------------------------------------------------------------------\u001b[0m",
      "\u001b[1;31mNameError\u001b[0m                                 Traceback (most recent call last)",
      "Cell \u001b[1;32mIn[113], line 1\u001b[0m\n\u001b[1;32m----> 1\u001b[0m dt\u001b[38;5;241m.\u001b[39mmean(axis\u001b[38;5;241m=\u001b[39mdf\u001b[38;5;241m.\u001b[39mclass_name)\n",
      "\u001b[1;31mNameError\u001b[0m: name 'dt' is not defined"
     ]
    }
   ],
   "source": []
  },
  {
   "cell_type": "code",
   "execution_count": null,
   "id": "48bf78f7",
   "metadata": {},
   "outputs": [],
   "source": []
  },
  {
   "cell_type": "code",
   "execution_count": null,
   "id": "d8870cd0",
   "metadata": {},
   "outputs": [],
   "source": []
  }
 ],
 "metadata": {
  "kernelspec": {
   "display_name": "Python 3 (ipykernel)",
   "language": "python",
   "name": "python3"
  },
  "language_info": {
   "codemirror_mode": {
    "name": "ipython",
    "version": 3
   },
   "file_extension": ".py",
   "mimetype": "text/x-python",
   "name": "python",
   "nbconvert_exporter": "python",
   "pygments_lexer": "ipython3",
   "version": "3.11.4"
  }
 },
 "nbformat": 4,
 "nbformat_minor": 5
}
